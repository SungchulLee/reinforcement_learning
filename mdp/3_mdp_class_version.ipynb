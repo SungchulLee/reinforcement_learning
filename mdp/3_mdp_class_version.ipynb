{
 "cells": [
  {
   "cell_type": "code",
   "execution_count": 1,
   "metadata": {},
   "outputs": [],
   "source": [
    "%matplotlib inline\n",
    "import matplotlib.pyplot as plt\n",
    "import numpy as np; np.random.seed(0)"
   ]
  },
  {
   "cell_type": "code",
   "execution_count": null,
   "metadata": {},
   "outputs": [],
   "source": [
    "from model.mdp import MDP\n",
    "from model.env import TransProb, Policy"
   ]
  },
  {
   "cell_type": "code",
   "execution_count": 2,
   "metadata": {},
   "outputs": [
    {
     "data": {
      "image/png": "[encoded data removed]",
      "text/plain": [
       "<Figure size 432x288 with 1 Axes>"
      ]
     },
     "metadata": {
      "needs_background": "light"
     },
     "output_type": "display_data"
    },
    {
     "name": "stdout",
     "output_type": "stream",
     "text": [
      "Success rate: 0.372\n"
     ]
    }
   ],
   "source": [
    "# set parameters ###############################################################\n",
    "epoch = 1000\n",
    "# set parameters ###############################################################\n",
    "\n",
    "tp = TransProb()\n",
    "transition_probs = tp.transition_probs\n",
    "\n",
    "initial_distribution = np.array([1, 1, 1, 0, 1, 1, 0, 1, 1, 1, 1]) / 9\n",
    "\n",
    "if 1:\n",
    "    p = Policy(policy='random') \n",
    "elif 1:\n",
    "    p = Policy(policy='bad') \n",
    "elif 1:\n",
    "    p = Policy(policy='optimal') \n",
    "elif 1:\n",
    "    p = Policy(policy='noizy_optimal') \n",
    "policy = p.policy\n",
    "\n",
    "mdp = MDP(transition_probs, initial_distribution, policy)\n",
    "\n",
    "simulation_history = []\n",
    "for _ in range(epoch):\n",
    "    done = False\n",
    "    mdp.reset()    \n",
    "    while not done:\n",
    "        mdp.step()\n",
    "        if mdp.current_state == 3:\n",
    "            done = True\n",
    "            simulation_history.append(1.)\n",
    "        elif mdp.current_state == 6:\n",
    "            done = True\n",
    "            simulation_history.append(0.)\n",
    "\n",
    "history = np.cumsum(simulation_history) / (np.arange(epoch) + 1)\n",
    "plt.plot(history)\n",
    "plt.show()\n",
    "\n",
    "print(\"Success rate: {}\".format(history[-1]))"
   ]
  },
  {
   "cell_type": "code",
   "execution_count": null,
   "metadata": {},
   "outputs": [],
   "source": []
  }
 ],
 "metadata": {
  "kernelspec": {
   "display_name": "Python 3",
   "language": "python",
   "name": "python3"
  },
  "language_info": {
   "codemirror_mode": {
    "name": "ipython",
    "version": 3
   },
   "file_extension": ".py",
   "mimetype": "text/x-python",
   "name": "python",
   "nbconvert_exporter": "python",
   "pygments_lexer": "ipython3",
   "version": "3.7.7"
  }
 },
 "nbformat": 4,
 "nbformat_minor": 2
}
