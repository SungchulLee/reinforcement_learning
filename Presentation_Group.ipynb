{
 "cells": [
  {
   "cell_type": "markdown",
   "metadata": {},
   "source": [
    "- 1 2018314396 김진영 2018314050 반가영 2018311454 신원섭\n",
    "\n",
    "- 2 전기전자  이도균(2019314104) 전기전자  조명아(2018314119) 전기전자  장성준(2019311652)\n",
    "\n",
    "- 3 건설환경공학과 Mohammad Gholami Farkoushi 건설환경공학과 김상균\n",
    "\n",
    "- 4 2017314008 권세진 2017314011 김현균 2018314038 김현빈\n",
    "\n",
    "- 5 2018314032 전현우 2018321118 박종우 \n",
    "\n",
    "- 6 2018321114 김민수 2018311179 조영찬\n",
    "\n",
    "- 7 2018314127 이성민 2018314130 최성화 2018314137 조의현\n",
    "\n",
    "- 8 이건형 (2019521114) 김소정 (2019521132) 선형주 (2019521134) 남효경 (2019521510)\n",
    "\n",
    "- 9 2018522502 비즈니스빅데이터분석 맹윤호  E192BMG01 휴먼기계바이오공학부 문세화 (이화여대 학점교류)\n",
    "\n",
    "- 10 오탁근, 임효재, 한상준"
   ]
  },
  {
   "cell_type": "code",
   "execution_count": null,
   "metadata": {},
   "outputs": [],
   "source": []
  }
 ],
 "metadata": {
  "kernelspec": {
   "display_name": "Python [conda env:anaconda3]",
   "language": "python",
   "name": "conda-env-anaconda3-py"
  },
  "language_info": {
   "codemirror_mode": {
    "name": "ipython",
    "version": 3
   },
   "file_extension": ".py",
   "mimetype": "text/x-python",
   "name": "python",
   "nbconvert_exporter": "python",
   "pygments_lexer": "ipython3",
   "version": "3.5.0"
  }
 },
 "nbformat": 4,
 "nbformat_minor": 2
}
