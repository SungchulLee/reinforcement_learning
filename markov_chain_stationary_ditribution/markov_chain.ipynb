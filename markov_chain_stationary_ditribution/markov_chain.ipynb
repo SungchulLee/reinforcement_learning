{
 "cells": [
  {
   "cell_type": "markdown",
   "metadata": {
    "collapsed": true,
    "slideshow": {
     "slide_type": "slide"
    }
   },
   "source": [
    "# Markov Chain\n",
    " \n",
    "Sungchul Lee  "
   ]
  },
  {
   "cell_type": "markdown",
   "metadata": {
    "slideshow": {
     "slide_type": "subslide"
    }
   },
   "source": [
    "# State\n",
    "\n"
   ]
  },
  {
   "cell_type": "markdown",
   "metadata": {},
   "source": [
    "$$i\\quad\\mbox{state}$$"
   ]
  },
  {
   "cell_type": "code",
   "execution_count": 1,
   "metadata": {
    "slideshow": {
     "slide_type": "fragment"
    }
   },
   "outputs": [],
   "source": [
    "import numpy as np\n",
    "states = [0,1,2,3]\n",
    "N_STATES = len(states)"
   ]
  },
  {
   "cell_type": "markdown",
   "metadata": {
    "slideshow": {
     "slide_type": "subslide"
    }
   },
   "source": [
    "# Transition probability\n",
    "\n"
   ]
  },
  {
   "cell_type": "markdown",
   "metadata": {},
   "source": [
    "$$p_{ij}\\quad\\mbox{transition probability of jumping from $i$ to $j$}$$"
   ]
  },
  {
   "cell_type": "code",
   "execution_count": 2,
   "metadata": {
    "slideshow": {
     "slide_type": "fragment"
    }
   },
   "outputs": [
    {
     "name": "stdout",
     "output_type": "stream",
     "text": [
      "[[0.7 0.3 0.  0. ]\n",
      " [0.3 0.4 0.3 0. ]\n",
      " [0.  0.3 0.4 0.3]\n",
      " [0.  0.  0.3 0.7]]\n"
     ]
    }
   ],
   "source": [
    "P = np.empty((N_STATES, N_STATES))\n",
    "l = 0.3\n",
    "r = 0.3\n",
    "s = 1-l-r\n",
    "\n",
    "#             0   1   2   3   \n",
    "P[ 0, :] = [s+l,  r,  0,  0]\n",
    "P[ 1, :] = [  l,  s,  r,  0]\n",
    "P[ 2, :] = [  0,  l,  s,  r]\n",
    "P[ 3, :] = [  0,  0,  l,s+r]\n",
    "\n",
    "print(P)"
   ]
  },
  {
   "cell_type": "markdown",
   "metadata": {},
   "source": [
    "# Initial State"
   ]
  },
  {
   "cell_type": "code",
   "execution_count": 3,
   "metadata": {},
   "outputs": [
    {
     "name": "stdout",
     "output_type": "stream",
     "text": [
      "2\n"
     ]
    }
   ],
   "source": [
    "np.random.seed(3)\n",
    "state = np.random.choice(states) \n",
    "print(state)"
   ]
  },
  {
   "cell_type": "markdown",
   "metadata": {},
   "source": [
    "# Stationary distribution $\\pi$\n",
    "\n",
    "$$\n",
    "\\pi {\\bf P} = \\pi\n",
    "$$\n",
    "$$$$\n",
    "$$\n",
    "\\left[\\begin{array}{ccccc}\\pi[0]&\\pi[1]&\\pi[2]&\\pi[3]\\end{array}\\right]\n",
    "\\left[\\begin{array}{ccccc}\n",
    "{\\bf P}[0,0]&{\\bf P}[0,1]&{\\bf P}[0,2]&{\\bf P}[0,3]\\\\\n",
    "{\\bf P}[1,0]&{\\bf P}[1,1]&{\\bf P}[1,2]&{\\bf P}[1,3]\\\\\n",
    "{\\bf P}[2,0]&{\\bf P}[2,1]&{\\bf P}[2,2]&{\\bf P}[2,3]\\\\\n",
    "{\\bf P}[3,0]&{\\bf P}[3,1]&{\\bf P}[3,2]&{\\bf P}[3,3]\n",
    "\\end{array}\\right]\n",
    "=\n",
    "\\left[\\begin{array}{ccccc}\\pi[0]&\\pi[1]&\\pi[2]&\\pi[3]\\end{array}\\right]\n",
    "$$"
   ]
  },
  {
   "cell_type": "markdown",
   "metadata": {},
   "source": [
    "$$\n",
    "\\pi[i]\\ge 0\\quad\\mbox{and}\\quad\\sum_i\\pi[i]=1\n",
    "$$"
   ]
  },
  {
   "cell_type": "markdown",
   "metadata": {},
   "source": [
    "1. Generate a simulated path of many steps.\n",
    "\n",
    "2. For each time step $n$, using the first $n$ steps of sample path compute empirical PMF $\\pi_n$:\n",
    "\n",
    "$$\n",
    "\\pi_n[i]=\\frac{\\#\\ \\mbox{visits of state $i$ up to time $n$}}{n}\n",
    "$$\n",
    "$$$$\n",
    "Under mild conditions, as $n\\rightarrow\\infty$\n",
    "$$\n",
    "\\pi_n[i]\\rightarrow\\pi[i]\n",
    "$$\n",
    "where\n",
    "$$\n",
    "\\pi\\quad\\mbox{unique stationary distribution}\n",
    "$$"
   ]
  },
  {
   "cell_type": "code",
   "execution_count": 12,
   "metadata": {},
   "outputs": [],
   "source": [
    "num_steps = 1000"
   ]
  },
  {
   "cell_type": "code",
   "execution_count": 13,
   "metadata": {},
   "outputs": [],
   "source": [
    "visit_log = np.zeros((N_STATES,num_steps))     \n",
    "for step in range(num_steps):\n",
    "    visit_log[state, step] = 1.\n",
    "    next_state = np.random.choice(states, p=P[state, :])\n",
    "    state = next_state"
   ]
  },
  {
   "cell_type": "code",
   "execution_count": 15,
   "metadata": {},
   "outputs": [
    {
     "name": "stdout",
     "output_type": "stream",
     "text": [
      "[[1. 1. 1. ... 0. 0. 0.]\n",
      " [0. 0. 0. ... 1. 1. 0.]\n",
      " [0. 0. 0. ... 0. 0. 1.]\n",
      " [0. 0. 0. ... 0. 0. 0.]]\n"
     ]
    }
   ],
   "source": [
    "print(visit_log)"
   ]
  },
  {
   "cell_type": "code",
   "execution_count": 16,
   "metadata": {},
   "outputs": [
    {
     "name": "stdout",
     "output_type": "stream",
     "text": [
      "[[  1.   2.   3. ... 245. 245. 245.]\n",
      " [  0.   0.   0. ... 218. 219. 219.]\n",
      " [  0.   0.   0. ... 250. 250. 251.]\n",
      " [  0.   0.   0. ... 285. 285. 285.]]\n"
     ]
    }
   ],
   "source": [
    "print(np.cumsum(visit_log, axis=1))"
   ]
  },
  {
   "cell_type": "code",
   "execution_count": 17,
   "metadata": {},
   "outputs": [
    {
     "name": "stdout",
     "output_type": "stream",
     "text": [
      "[[1.   1.   1.   ... 0.25 0.25 0.24]\n",
      " [0.   0.   0.   ... 0.22 0.22 0.22]\n",
      " [0.   0.   0.   ... 0.25 0.25 0.25]\n",
      " [0.   0.   0.   ... 0.29 0.29 0.28]]\n"
     ]
    }
   ],
   "source": [
    "pi = np.cumsum(visit_log, axis=1) / (np.arange(num_steps) + 1).reshape((1,-1))\n",
    "print(np.round(pi, 2)) "
   ]
  },
  {
   "cell_type": "code",
   "execution_count": 18,
   "metadata": {},
   "outputs": [
    {
     "data": {
      "image/png": "[encoded data removed]",
      "text/plain": [
       "<Figure size 720x360 with 4 Axes>"
      ]
     },
     "metadata": {
      "needs_background": "light"
     },
     "output_type": "display_data"
    }
   ],
   "source": [
    "%matplotlib inline\n",
    "import matplotlib.pyplot as plt\n",
    "fig, axes = plt.subplots(nrows=4, ncols=1, figsize=(10, 5), sharex=True)\n",
    "for s in range(N_STATES):\n",
    "    axes[s].plot(pi[s], label=\"state {}\".format(str(s)))\n",
    "    axes[s].legend(loc='upper right')\n",
    "    axes[s].set_ylim([0., 1.])   \n",
    "plt.tight_layout()\n",
    "plt.show()"
   ]
  },
  {
   "cell_type": "code",
   "execution_count": null,
   "metadata": {},
   "outputs": [],
   "source": []
  }
 ],
 "metadata": {
  "kernelspec": {
   "display_name": "Python 3",
   "language": "python",
   "name": "python3"
  },
  "language_info": {
   "codemirror_mode": {
    "name": "ipython",
    "version": 3
   },
   "file_extension": ".py",
   "mimetype": "text/x-python",
   "name": "python",
   "nbconvert_exporter": "python",
   "pygments_lexer": "ipython3",
   "version": "3.6.9"
  }
 },
 "nbformat": 4,
 "nbformat_minor": 2
}
