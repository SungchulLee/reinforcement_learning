{
 "cells": [
  {
   "cell_type": "markdown",
   "metadata": {
    "collapsed": true,
    "slideshow": {
     "slide_type": "slide"
    }
   },
   "source": [
    "\n",
    "\n",
    "\n",
    "\n",
    "\n",
    "\n",
    "\n",
    "# Large-Scale Reinforcement Learning\n",
    " \n",
    "Sungchul Lee  \n",
    "\n",
    "\n"
   ]
  },
  {
   "cell_type": "markdown",
   "metadata": {
    "slideshow": {
     "slide_type": "subslide"
    }
   },
   "source": [
    "# References\n",
    "\n",
    "- David Silver- Reinforcement Learning \n",
    "[6 Value Function Approximation](https://www.youtube.com/watch?v=UoPei5o4fps&index=6&list=PL7-jPKtc4r78-wCZcQn5IqyuWhBZ8fOxT) \n",
    "[slide](http://www0.cs.ucl.ac.uk/staff/d.silver/web/Teaching_files/FA.pdf)\n",
    "[local](http://localhost:8888/notebooks/Dropbox/Paper/Reinforcement Learning by David Silver 6.pdf) \n",
    "\n",
    "- David Silver\n",
    "[Tutorial: Deep Reinforcement Learning, ICML 2016](http://icml.cc/2016/tutorials/deep_rl_tutorial.pdf) \n",
    "[local](http://localhost:8888/notebooks/Dropbox/Paper/deep_rl_tutorial.pdf)\n",
    "\n",
    "- David Silver\n",
    "[Gradient Temporal Difference Networks](http://proceedings.mlr.press/v24/silver12a/silver12a.pdf) \n",
    "[local](http://localhost:8888/notebooks/Dropbox/Paper/silver12a.pdf)\n",
    "\n",
    "- 이웅원 [파이썬과 케라스로 배우는 강화학습](https://www.slideshare.net/WoongwonLee/ss-78783597?from_action=save)\n",
    "[local](http://localhost:8888/notebooks/Dropbox/Paper/random-170812084307.pdf)\n",
    "\n",
    "- 김정주\n",
    "[파이썬으로 나만의 강화학습 환경 만들기](https://www.youtube.com/watch?v=chVLag1NIAQ)\n",
    "\n",
    "- 김태훈\n",
    "[알아두면 쓸 데있는 신기한 강화학습](https://www.youtube.com/watch?v=NGGO0zdzhVQ)\n",
    "\n",
    "- 곽동현\n",
    "[Introduction of Deep Reinforcement Learning](https://www.youtube.com/watch?v=dw0sHzE1oAc)\n",
    "\n",
    "- 송호연\n",
    "[Deepmind StarCraft II AI](https://www.youtube.com/watch?v=eKA4EPpLCIU)\n",
    "\n",
    "- Nando de Freitas\n",
    "[Deep Learning: Practice and Trends, NIPS 2017 Tutorial](https://docs.google.com/presentation/d/e/2PACX-1vQMZsWfjjLLz_wi8iaMxHKawuTkdqeA3Gw00wy5dBHLhAkuLEvhB7k-4LcO5RQEVFzZXfS6ByABaRr4/pub?slide=id.p)\n",
    "\n",
    "- Hamid Maei\n",
    "[Gradient Temporal-Difference Learning Algorithms](http://ai2-s2-pdfs.s3.amazonaws.com/9494/639c7d4cc4aad0842c18a26562903ca0c6f8.pdf) \n",
    "[local](http://localhost:8888/notebooks/Dropbox/Paper/639c7d4cc4aad0842c18a26562903ca0c6f8.pdf) \n",
    "\n",
    "- Arthur Juliani\n",
    "[Simple Reinforcement Learning with Tensorflow Part 4: Deep Q-Networks and Beyond](https://medium.com/@awjuliani/simple-reinforcement-learning-with-tensorflow-part-4-deep-q-networks-and-beyond-8438a3e2b8df)\n",
    "\n",
    "- nalsil\n",
    "[DQN](https://github.com/nalsil/TensorFlow-Tutorials/tree/master/07%20-%20DQN)\n",
    "\n",
    "- Lee Young Moo\n",
    "[DQN](http://www.phrgcm.com/blog/2016/08/17/deep-q-network/)\n",
    "\n",
    "- [Asynchronous Methods for Deep Reinforcement Learning](https://arxiv.org/pdf/1602.01783v2.pdf)\n",
    "\n",
    "- [PR-005: Playing Atari with Deep Reinforcement Learning (NIPS 2013 Deep Learning Workshop)](https://www.youtube.com/watch?v=V7_cNTfm2i8&t=4s&list=PLlMkM4tgfjnJhhd4wn5aj8fVTYJwIpWkS&index=6)\n",
    "\n",
    "- Sung Kim - ReinforcementZeroToAll\n",
    "[Lecture 6 Q-Network](https://www.youtube.com/watch?v=w9GwqPx7LW8&list=PLlMkM4tgfjnKsCWav-Z2F-MMFRx-2gMGG&index=11) \n",
    "[실습 6-1 Q Network for Frozen Lake](https://www.youtube.com/watch?v=Fcmgl8ow2Uc&index=12&list=PLlMkM4tgfjnKsCWav-Z2F-MMFRx-2gMGG) \n",
    "[실습 6-2 Q Network for Cart Pole](https://www.youtube.com/watch?v=MF_Wllw9VKk&list=PLlMkM4tgfjnKsCWav-Z2F-MMFRx-2gMGG&index=13) \n",
    "[Lecture 7: DQN](https://www.youtube.com/watch?v=S1Y9eys2bdg&list=PLlMkM4tgfjnKsCWav-Z2F-MMFRx-2gMGG&index=14) \n",
    "[실습 7-1 DQN 1 (NIPS 2013)](https://www.youtube.com/watch?v=Fbf9YUyDFww&index=15&list=PLlMkM4tgfjnKsCWav-Z2F-MMFRx-2gMGG) \n",
    "[실습 7-2 DQN 2 (Nature 2015)](https://www.youtube.com/watch?v=ByB49iDMiZE&list=PLlMkM4tgfjnKsCWav-Z2F-MMFRx-2gMGG&index=16) \n",
    "[실습 7-3 DQN Cart Pole Demo (with Music)!](https://www.youtube.com/watch?v=TdA0APWRCx0&index=17&list=PLlMkM4tgfjnKsCWav-Z2F-MMFRx-2gMGG) \n",
    "[실습 7-4 DQN Simple Pacman exercise example (with Music)!](https://www.youtube.com/watch?v=SJQEWgkvBvo&index=18&list=PLlMkM4tgfjnKsCWav-Z2F-MMFRx-2gMGG) \n",
    "[실습 8-3 DQN vs Policy Gradient on Simple Pacman (with Music)!](https://www.youtube.com/watch?v=M8RfOCYIL8k&index=19&list=PLlMkM4tgfjnKsCWav-Z2F-MMFRx-2gMGG)\n",
    "\n",
    "- Hvass Laboratories \n",
    "[TensorFlow Tutorial #16 Reinforcement Learning](https://www.youtube.com/watch?v=Vz5l886eptw) [code](https://github.com/Hvass-Labs/TensorFlow-Tutorials/blob/master/16_Reinforcement_Learning.ipynb)\n",
    "\n",
    "- Richard Sutton \n",
    "[Tutorial: Introduction to Reinforcement Learning with Function Approximation](https://www.youtube.com/watch?v=ggqnxyjaKe4)\n",
    "\n",
    "- Richard Sutton \n",
    "[The Long-term of AI & Temporal-Difference Learning](https://www.youtube.com/watch?v=EeMCEQa85tw)\n",
    "\n",
    "- Shane M. Conway \n",
    "[Introduction to Reinforcement Learning](https://www.youtube.com/watch?v=xa6AHMoND6E) \n",
    "\n",
    "- 송호연 -  강화학습으로 풀어보는 슈퍼마리오 \n",
    "[1](https://brunch.co.kr/@kakao-it/144) \n",
    "[2](https://brunch.co.kr/@kakao-it/161)\n",
    "\n"
   ]
  },
  {
   "cell_type": "markdown",
   "metadata": {
    "slideshow": {
     "slide_type": "subslide"
    }
   },
   "source": [
    "# How to run these slides yourself\n",
    "\n",
    "**Setup python environment**\n",
    "\n",
    "- [Install RISE for an interactive presentation viewer](https://github.com/damianavila/RISE)"
   ]
  },
  {
   "cell_type": "markdown",
   "metadata": {
    "slideshow": {
     "slide_type": "slide"
    }
   },
   "source": [
    "# Large-Scale Reinforcement Learning\n",
    "\n"
   ]
  },
  {
   "cell_type": "markdown",
   "metadata": {
    "slideshow": {
     "slide_type": "fragment"
    }
   },
   "source": [
    "<div align=\"center\"><img src=\"img/201701052205399322_t.jpg\" width=\"40%\" height=\"20%\"></div>\n",
    "\n",
    "http://image.ytn.co.kr/general/jpg/2017/0105/201701052205399322_t.jpg\n",
    "\n",
    "- DeepMind - AlphaGo Zero: Learning from scratch [youtube](https://www.youtube.com/watch?v=WXHFqTvfFSw&t=11s) [blog](https://deepmind.com/blog/alphago-zero-learning-scratch/)\n",
    "\n",
    "- Siraj Raval [Deep Q Learning for Video Games - The Math of Intelligence #9](https://www.youtube.com/watch?v=79pmNdyxEGo)\n",
    "\n",
    "- Two Minute Papers [New DeepMind AI Beats AlphaGo 100-0 | Two Minute Papers #201](https://www.youtube.com/watch?v=9xlSy9F5WtE)\n",
    "\n",
    "- Tim Kington [AlphaGo Zero](https://www.youtube.com/watch?v=XuzIqE2IshY)\n"
   ]
  },
  {
   "cell_type": "markdown",
   "metadata": {
    "slideshow": {
     "slide_type": "subslide"
    }
   },
   "source": [
    "### Exercise\n",
    "\n",
    "How many states in Comupter Go?"
   ]
  },
  {
   "cell_type": "markdown",
   "metadata": {
    "slideshow": {
     "slide_type": "subslide"
    }
   },
   "source": [
    "<div align=\"center\"><img src=\"img/Screen Shot 2017-11-24 at 4.36.02 PM.png\" width=\"80%\" height=\"20%\"></div>\n",
    "\n",
    "https://en.wikipedia.org/wiki/AlphaGo_Zero\n",
    "\n",
    "- Go World Video [ALPHAGO ZERO new series ! Game 1 vs Alphago Master version](https://www.youtube.com/watch?v=-Wh4CfsWDyM)"
   ]
  },
  {
   "cell_type": "markdown",
   "metadata": {
    "slideshow": {
     "slide_type": "subslide"
    }
   },
   "source": [
    "<div align=\"center\"><img src=\"img/Large-Scale Reinforcement Learning.png\" width=\"90%\" height=\"100%\"></div>\n",
    "\n",
    "http://www0.cs.ucl.ac.uk/staff/d.silver/web/Teaching_files/FA.pdf"
   ]
  },
  {
   "cell_type": "markdown",
   "metadata": {
    "slideshow": {
     "slide_type": "slide"
    }
   },
   "source": [
    "# Function Approximation\n",
    "\n",
    "<div align=\"center\"><img src=\"img/Value Function Approximation.png\" width=\"60%\" height=\"20%\"></div>\n",
    "\n",
    "http://www0.cs.ucl.ac.uk/staff/d.silver/web/Teaching_files/FA.pdf"
   ]
  },
  {
   "cell_type": "markdown",
   "metadata": {
    "slideshow": {
     "slide_type": "subslide"
    }
   },
   "source": [
    "# Types of Function Approximation\n",
    "\n",
    "<div align=\"center\"><img src=\"img/Types of Value Function Approximation.png\" width=\"50%\" height=\"20%\"></div>\n",
    "\n",
    "http://www0.cs.ucl.ac.uk/staff/d.silver/web/Teaching_files/FA.pdf"
   ]
  },
  {
   "cell_type": "markdown",
   "metadata": {
    "slideshow": {
     "slide_type": "slide"
    }
   },
   "source": [
    "# Value Function Approximation "
   ]
  },
  {
   "cell_type": "markdown",
   "metadata": {
    "slideshow": {
     "slide_type": "fragment"
    }
   },
   "source": [
    "### Goal\n",
    "\n",
    "Find ${\\bf w}$ minimizing\n",
    "$$\n",
    "J({\\bf w})=\\mathbb{E}_\\pi\\left(v_\\pi(S)-v_{\\bf w}(S)\\right)^2\n",
    "$$"
   ]
  },
  {
   "cell_type": "markdown",
   "metadata": {
    "slideshow": {
     "slide_type": "subslide"
    }
   },
   "source": [
    "### Stochastic gradient descent - Need oracle to tell $v_\\pi(S)$\n",
    "$$\\begin{array}{lllllll}\n",
    "\\mbox{GD}&\n",
    "\\Delta{\\bf w}\n",
    "&=&\\alpha&\\mathbb{E}_\\pi&\\left(v_\\pi(S)-v_{\\bf w}(S)\\right)\\nabla_{\\bf w}v_{\\bf w}(S)\\\\\n",
    "\\mbox{SGD}&\n",
    "\\Delta{\\bf w}\n",
    "&=&\\alpha&&\\left(v_\\pi(S_t)-v_{\\bf w}(S_t)\\right)\\nabla_{\\bf w}v_{\\bf w}(S_t)\n",
    "\\end{array}$$"
   ]
  },
  {
   "cell_type": "markdown",
   "metadata": {
    "slideshow": {
     "slide_type": "fragment"
    }
   },
   "source": [
    "### Incremental Method - No need oracle\n",
    "\n",
    "$$\\begin{array}{llllll}\n",
    "\\mbox{MC}&\\Delta{\\bf w}&=&\\alpha&\\left(G_t-v_{\\bf w}(S_t)\\right)&\\nabla_{\\bf w}v_{\\bf w}(S_t)\\\\\n",
    "\\mbox{TD}&\\Delta{\\bf w}&=&\\alpha&\\left(R_{t+1}+\\gamma v_{\\bf w}(S_{t+1}) -v_{\\bf w}(S_t)\\right)&\\nabla_{\\bf w}v_{\\bf w}(S_t)\\\\\n",
    "\\end{array}$$"
   ]
  },
  {
   "cell_type": "markdown",
   "metadata": {
    "slideshow": {
     "slide_type": "subslide"
    }
   },
   "source": [
    "### Incremental Method - Linear Approximation"
   ]
  },
  {
   "cell_type": "markdown",
   "metadata": {
    "slideshow": {
     "slide_type": "fragment"
    }
   },
   "source": [
    "### Represent state by a feature vector\n",
    "$$\n",
    "{\\bf x}(S)=\\left(\\begin{array}{c}\n",
    "{\\bf x}_1(S)\\\\\n",
    "\\vdots\\\\\n",
    "{\\bf x}_n(S)\n",
    "\\end{array}\\right)$$"
   ]
  },
  {
   "cell_type": "markdown",
   "metadata": {
    "slideshow": {
     "slide_type": "fragment"
    }
   },
   "source": [
    "### Linear Value Function Approximation\n",
    "$$\n",
    "v_{\\bf w}(S)={\\bf x}(S)^T {\\bf w}\n",
    "$$"
   ]
  },
  {
   "cell_type": "markdown",
   "metadata": {
    "slideshow": {
     "slide_type": "subslide"
    }
   },
   "source": [
    "### Incremental Prediction\n",
    "\n",
    "$$\\begin{array}{llllll}\n",
    "\\mbox{MC}&\\Delta{\\bf w}&=&\\alpha&\\left(G_t-v_{\\bf w}(S_t)\\right)&{\\bf x}(S_t)\\\\\n",
    "\\mbox{TD}&\\Delta{\\bf w}&=&\\alpha&\\left(R_{t+1}+\\gamma v_{\\bf w}(S_{t+1}) -v_{\\bf w}(S_t)\\right)&{\\bf x}(S_t)\\\\\n",
    "\\mbox{TD}(\\lambda)&\\Delta{\\bf w}&=&\\alpha&\\left(R_{t+1}+\\gamma v_{\\bf w}(S_{t+1}) -v_{\\bf w}(S_t)\\right)&(\\gamma\\lambda E_{t−1}+{\\bf x}(S_t))\\\\\n",
    "\\end{array}$$"
   ]
  },
  {
   "cell_type": "markdown",
   "metadata": {
    "slideshow": {
     "slide_type": "slide"
    }
   },
   "source": [
    "# Action-Value Function Approximation "
   ]
  },
  {
   "cell_type": "markdown",
   "metadata": {
    "slideshow": {
     "slide_type": "fragment"
    }
   },
   "source": [
    "### Goal\n",
    "\n",
    "Find ${\\bf w}$ minimizing\n",
    "$$\n",
    "J({\\bf w})=\\mathbb{E}_\\pi\\left(q_\\pi(S,A)-q_{\\bf w}(S,A)\\right)^2\n",
    "$$"
   ]
  },
  {
   "cell_type": "markdown",
   "metadata": {
    "slideshow": {
     "slide_type": "subslide"
    }
   },
   "source": [
    "### SGD - Need oracle to tell $q_\\pi(S,A)$\n",
    "$$\\begin{array}{llllllll}\n",
    "\\mbox{Gradient descent}&\n",
    "\\Delta{\\bf w}\n",
    "&=&\\alpha&\\mathbb{E}_\\pi&\\left(q_\\pi(S,A)-q_{\\bf w}(S,A)\\right)\\nabla_{\\bf w}q_{\\bf w}(S,A)\\\\\n",
    "\\mbox{Stochastic gradient descent}&\n",
    "\\Delta{\\bf w}\n",
    "&=&\\alpha&&\\left(q_\\pi(S_t,A_t)-q_{\\bf w}(S_t,A_t)\\right)\\nabla_{\\bf w}q_{\\bf w}(S_t,A_t)\n",
    "\\end{array}$$"
   ]
  },
  {
   "cell_type": "markdown",
   "metadata": {
    "slideshow": {
     "slide_type": "fragment"
    }
   },
   "source": [
    "### Incremental Method - No need oracle\n",
    "\n",
    "$$\\begin{array}{llllll}\n",
    "\\mbox{MC}&\\Delta{\\bf w}&=&\\alpha&\\left(G_t-q_{\\bf w}(S_t,A_t)\\right)&\\nabla_{\\bf w}q_{\\bf w}(S_t,A_t)\\\\\n",
    "\\mbox{TD}&\\Delta{\\bf w}&=&\\alpha&\\left(R_{t+1}+\\gamma q_{\\bf w}(S_{t+1},A_{t+1}) -q_{\\bf w}(S_t,A_t)\\right)&\\nabla_{\\bf w}q_{\\bf w}(S_t,A_t)\\\\\n",
    "\\end{array}$$"
   ]
  },
  {
   "cell_type": "markdown",
   "metadata": {
    "slideshow": {
     "slide_type": "subslide"
    }
   },
   "source": [
    "### Incremental Method - Linear Approximation"
   ]
  },
  {
   "cell_type": "markdown",
   "metadata": {
    "slideshow": {
     "slide_type": "fragment"
    }
   },
   "source": [
    "### Represent state by a feature vector\n",
    "$$\n",
    "{\\bf x}(S,A)=\\left(\\begin{array}{c}\n",
    "{\\bf x}_1(S,A)\\\\\n",
    "\\vdots\\\\\n",
    "{\\bf x}_n(S,A)\n",
    "\\end{array}\\right)$$"
   ]
  },
  {
   "cell_type": "markdown",
   "metadata": {
    "slideshow": {
     "slide_type": "fragment"
    }
   },
   "source": [
    "### Linear Value Function Approximation\n",
    "$$\n",
    "q_{\\bf w}(S,A)={\\bf x}(S,A)^T {\\bf w}\n",
    "$$"
   ]
  },
  {
   "cell_type": "markdown",
   "metadata": {
    "slideshow": {
     "slide_type": "subslide"
    }
   },
   "source": [
    "### Incremental Prediction\n",
    "\n",
    "$$\\begin{array}{llllll}\n",
    "\\mbox{MC}&\\Delta{\\bf w}&=&\\alpha&\\left(G_t-q_{\\bf w}(S_t,A_t)\\right)&{\\bf x}(S_t,A_t)\\\\\n",
    "\\mbox{TD}&\\Delta{\\bf w}&=&\\alpha&\\left(R_{t+1}+\\gamma q_{\\bf w}(S_{t+1},A_{t+1}) -q_{\\bf w}(S_t,A_t)\\right)&{\\bf x}(S_t,A_t)\\\\\n",
    "\\mbox{Q}&\\Delta{\\bf w}&=&\\alpha&\\left(R_{t+1}+\\gamma \\mbox{max}_{a'}q_{\\bf w}(S_{t+1},a') -q_{\\bf w}(S_t,A_t)\\right)&{\\bf x}(S_t,A_t)\\\\\n",
    "\\mbox{TD}(\\lambda)&\\Delta{\\bf w}&=&\\alpha&\\left(R_{t+1}+\\gamma q_{\\bf w}(S_{t+1},A_{t+1}) -q_{\\bf w}(S_t,A_t)\\right)&(\\gamma\\lambda E_{t−1}+{\\bf x}(S_t,A_t))\\\\\n",
    "\\end{array}$$"
   ]
  },
  {
   "cell_type": "markdown",
   "metadata": {
    "slideshow": {
     "slide_type": "slide"
    }
   },
   "source": [
    "# DQN\n",
    "\n",
    "DQN paper: https://www.nature.com/articles/nature14236\n",
    "\n",
    "DQN source code: https://sites.google.com/a/deepmind.com/dqn/\n",
    "\n",
    "<div align=\"center\"><img src=\"img/DQN Nature.png\" width=\"30%\" height=\"20%\"></div>"
   ]
  },
  {
   "cell_type": "markdown",
   "metadata": {
    "slideshow": {
     "slide_type": "subslide"
    }
   },
   "source": [
    "<div align=\"center\"><img src=\"img/Deep Reinforcement Learning in Atari.png\" width=\"60%\" height=\"20%\"></div>\n",
    "\n",
    "http://icml.cc/2016/tutorials/deep_rl_tutorial.pdf"
   ]
  },
  {
   "cell_type": "markdown",
   "metadata": {
    "slideshow": {
     "slide_type": "subslide"
    }
   },
   "source": [
    "<div align=\"center\"><img src=\"img/breakout.gif\" width=\"30%\" height=\"30%\"></div>\n",
    "\n",
    "http://ikuz.eu/wp-content/uploads/2015/02/breakout.gif\n",
    "\n",
    "DQN Breakout [DeepMind](https://www.youtube.com/watch?v=TmPfTpjtdgg)"
   ]
  },
  {
   "cell_type": "markdown",
   "metadata": {
    "slideshow": {
     "slide_type": "subslide"
    }
   },
   "source": [
    "<div align=\"center\"><img src=\"img/DQN in Atari.png\" width=\"60%\" height=\"20%\"></div>\n",
    "\n",
    "http://icml.cc/2016/tutorials/deep_rl_tutorial.pdf"
   ]
  },
  {
   "cell_type": "markdown",
   "metadata": {
    "slideshow": {
     "slide_type": "subslide"
    }
   },
   "source": [
    "<div align=\"center\"><img src=\"img/DQN Results in Atari.png\" width=\"60%\" height=\"20%\"></div>\n",
    "\n",
    "http://icml.cc/2016/tutorials/deep_rl_tutorial.pdf"
   ]
  },
  {
   "cell_type": "markdown",
   "metadata": {
    "slideshow": {
     "slide_type": "subslide"
    }
   },
   "source": [
    "<div align=\"center\"><img src=\"img/Experience Replay in Deep Q-Networks.png\" width=\"60%\" height=\"20%\"></div>\n",
    "\n",
    "http://icml.cc/2016/tutorials/deep_rl_tutorial.pdf"
   ]
  },
  {
   "cell_type": "markdown",
   "metadata": {
    "slideshow": {
     "slide_type": "slide"
    }
   },
   "source": [
    "# Why DQN works"
   ]
  },
  {
   "cell_type": "markdown",
   "metadata": {
    "slideshow": {
     "slide_type": "fragment"
    }
   },
   "source": [
    "- Going from a single-layer network to a multi-layer convolutional network to approximate the Q function.\n",
    "\n",
    "- Implementing Experience Replay, which will allow our network to train itself using stored memories from it’s experience.\n",
    "\n",
    "- Utilizing a second “target” network, which we will use to compute target Q-values during our updates.\n",
    "\n",
    "https://medium.com/@awjuliani/simple-reinforcement-learning-with-tensorflow-part-4-deep-q-networks-and-beyond-8438a3e2b8df"
   ]
  },
  {
   "cell_type": "markdown",
   "metadata": {
    "collapsed": true,
    "slideshow": {
     "slide_type": "slide"
    }
   },
   "source": [
    "# DQN - numpy implementation"
   ]
  },
  {
   "cell_type": "code",
   "execution_count": 1,
   "metadata": {},
   "outputs": [
    {
     "name": "stderr",
     "output_type": "stream",
     "text": [
      "Initial Burning Period\n",
      "Training Start\n",
      "Loaded backend module://ipykernel.pylab.backend_inline version unknown.\n"
     ]
    },
    {
     "name": "stdout",
     "output_type": "stream",
     "text": [
      "[experience(state=9, action=2, reward=-0.02, next_state=5), experience(state=8, action=2, reward=-0.02, next_state=8), experience(state=4, action=0, reward=-0.02, next_state=4), experience(state=5, action=0, reward=-0.02, next_state=5), experience(state=0, action=2, reward=-0.02, next_state=0)]\n",
      "[experience(state=0, action=0, reward=-0.02, next_state=0), experience(state=0, action=1, reward=-0.02, next_state=1), experience(state=4, action=0, reward=-0.02, next_state=4), experience(state=0, action=2, reward=-0.02, next_state=1), experience(state=7, action=2, reward=-0.02, next_state=8)]\n",
      "[experience(state=9, action=3, reward=-0.02, next_state=9), experience(state=7, action=3, reward=-0.02, next_state=7), experience(state=2, action=1, reward=0.98, next_state=3), experience(state=10, action=2, reward=-1.02, next_state=6), experience(state=9, action=1, reward=-0.02, next_state=10)]\n",
      "[experience(state=1, action=1, reward=-0.02, next_state=1), experience(state=10, action=1, reward=-0.02, next_state=10), experience(state=1, action=0, reward=-0.02, next_state=1), experience(state=5, action=3, reward=-0.02, next_state=5), experience(state=7, action=1, reward=-0.02, next_state=8)]\n",
      "[experience(state=7, action=1, reward=-0.02, next_state=7), experience(state=10, action=1, reward=-0.02, next_state=10), experience(state=0, action=3, reward=-0.02, next_state=4), experience(state=0, action=3, reward=-0.02, next_state=4), experience(state=10, action=2, reward=-1.02, next_state=6)]\n",
      "[experience(state=7, action=1, reward=-0.02, next_state=8), experience(state=4, action=0, reward=-0.02, next_state=4), experience(state=4, action=1, reward=-0.02, next_state=4), experience(state=5, action=0, reward=-0.02, next_state=5), experience(state=2, action=2, reward=-0.02, next_state=1)]\n",
      "[experience(state=4, action=0, reward=-0.02, next_state=0), experience(state=4, action=0, reward=-0.02, next_state=0), experience(state=4, action=3, reward=-0.02, next_state=7), experience(state=4, action=2, reward=-0.02, next_state=0), experience(state=0, action=0, reward=-0.02, next_state=0)]\n",
      "[experience(state=8, action=2, reward=-0.02, next_state=8), experience(state=5, action=1, reward=-1.02, next_state=6), experience(state=7, action=2, reward=-0.02, next_state=8), experience(state=1, action=3, reward=-0.02, next_state=1), experience(state=0, action=3, reward=-0.02, next_state=0)]\n",
      "[experience(state=5, action=2, reward=-0.02, next_state=2), experience(state=7, action=2, reward=-0.02, next_state=4), experience(state=9, action=3, reward=-0.02, next_state=9), experience(state=4, action=2, reward=-0.02, next_state=0), experience(state=2, action=0, reward=-0.02, next_state=1)]\n",
      "[experience(state=7, action=3, reward=-0.02, next_state=7), experience(state=10, action=2, reward=-1.02, next_state=6), experience(state=8, action=3, reward=-0.02, next_state=8), experience(state=0, action=3, reward=-0.02, next_state=1), experience(state=0, action=2, reward=-0.02, next_state=0)]\n",
      "[experience(state=10, action=1, reward=-0.02, next_state=10), experience(state=9, action=3, reward=-0.02, next_state=8), experience(state=9, action=3, reward=-0.02, next_state=9), experience(state=9, action=1, reward=-0.02, next_state=10), experience(state=7, action=3, reward=-0.02, next_state=7)]\n",
      "[experience(state=4, action=1, reward=-0.02, next_state=7), experience(state=2, action=0, reward=-0.02, next_state=1), experience(state=1, action=0, reward=-0.02, next_state=0), experience(state=8, action=3, reward=-0.02, next_state=9), experience(state=5, action=3, reward=-0.02, next_state=9)]\n",
      "[experience(state=1, action=0, reward=-0.02, next_state=0), experience(state=0, action=0, reward=-0.02, next_state=0), experience(state=0, action=3, reward=-0.02, next_state=4), experience(state=1, action=0, reward=-0.02, next_state=1), experience(state=0, action=2, reward=-0.02, next_state=0)]\n",
      "[experience(state=7, action=0, reward=-0.02, next_state=7), experience(state=4, action=2, reward=-0.02, next_state=0), experience(state=7, action=0, reward=-0.02, next_state=4), experience(state=2, action=2, reward=-0.02, next_state=1), experience(state=0, action=3, reward=-0.02, next_state=0)]\n",
      "[experience(state=10, action=0, reward=-0.02, next_state=9), experience(state=9, action=3, reward=-0.02, next_state=9), experience(state=10, action=2, reward=-1.02, next_state=6), experience(state=1, action=2, reward=-0.02, next_state=1), experience(state=9, action=2, reward=-0.02, next_state=5)]\n",
      "[experience(state=8, action=1, reward=-0.02, next_state=9), experience(state=0, action=1, reward=-0.02, next_state=1), experience(state=8, action=3, reward=-0.02, next_state=8), experience(state=10, action=0, reward=-0.02, next_state=9), experience(state=2, action=2, reward=-0.02, next_state=2)]\n",
      "[experience(state=4, action=1, reward=-0.02, next_state=4), experience(state=10, action=0, reward=-0.02, next_state=9), experience(state=5, action=3, reward=-1.02, next_state=6), experience(state=2, action=3, reward=-0.02, next_state=5), experience(state=4, action=2, reward=-0.02, next_state=0)]\n",
      "[experience(state=2, action=3, reward=-0.02, next_state=5), experience(state=7, action=2, reward=-0.02, next_state=4), experience(state=2, action=0, reward=-0.02, next_state=1), experience(state=10, action=1, reward=-0.02, next_state=10), experience(state=7, action=0, reward=-0.02, next_state=7)]\n",
      "[experience(state=0, action=2, reward=-0.02, next_state=0), experience(state=8, action=0, reward=-0.02, next_state=8), experience(state=2, action=3, reward=-0.02, next_state=5), experience(state=1, action=3, reward=-0.02, next_state=1), experience(state=4, action=0, reward=-0.02, next_state=0)]\n",
      "[experience(state=8, action=1, reward=-0.02, next_state=9), experience(state=4, action=0, reward=-0.02, next_state=4), experience(state=7, action=0, reward=-0.02, next_state=7), experience(state=0, action=1, reward=-0.02, next_state=1), experience(state=8, action=0, reward=-0.02, next_state=7)]\n",
      "[experience(state=1, action=1, reward=-0.02, next_state=2), experience(state=4, action=1, reward=-0.02, next_state=4), experience(state=7, action=3, reward=-0.02, next_state=7), experience(state=7, action=1, reward=-0.02, next_state=8), experience(state=1, action=1, reward=-0.02, next_state=2)]\n",
      "[experience(state=0, action=0, reward=-0.02, next_state=0), experience(state=4, action=2, reward=-0.02, next_state=0), experience(state=7, action=1, reward=-0.02, next_state=4), experience(state=9, action=3, reward=-0.02, next_state=9), experience(state=8, action=2, reward=-0.02, next_state=8)]\n",
      "[experience(state=2, action=2, reward=-0.02, next_state=2), experience(state=1, action=2, reward=-0.02, next_state=1), experience(state=8, action=2, reward=-0.02, next_state=8), experience(state=8, action=3, reward=-0.02, next_state=8), experience(state=1, action=3, reward=-0.02, next_state=1)]\n",
      "[experience(state=10, action=0, reward=-0.02, next_state=9), experience(state=4, action=1, reward=-0.02, next_state=4), experience(state=1, action=0, reward=-0.02, next_state=0), experience(state=8, action=3, reward=-0.02, next_state=8), experience(state=4, action=0, reward=-0.02, next_state=4)]\n",
      "[experience(state=9, action=1, reward=-0.02, next_state=10), experience(state=2, action=2, reward=-0.02, next_state=2), experience(state=8, action=3, reward=-0.02, next_state=8), experience(state=8, action=0, reward=-0.02, next_state=7), experience(state=10, action=3, reward=-0.02, next_state=10)]\n",
      "[experience(state=8, action=3, reward=-0.02, next_state=8), experience(state=1, action=3, reward=-0.02, next_state=1), experience(state=9, action=3, reward=-0.02, next_state=9), experience(state=9, action=1, reward=-0.02, next_state=10), experience(state=10, action=1, reward=-0.02, next_state=10)]\n",
      "[experience(state=7, action=2, reward=-0.02, next_state=4), experience(state=5, action=1, reward=-1.02, next_state=6), experience(state=9, action=0, reward=-0.02, next_state=8), experience(state=1, action=2, reward=-0.02, next_state=1), experience(state=0, action=3, reward=-0.02, next_state=4)]\n",
      "[experience(state=4, action=1, reward=-0.02, next_state=7), experience(state=5, action=0, reward=-0.02, next_state=5), experience(state=4, action=0, reward=-0.02, next_state=4), experience(state=4, action=0, reward=-0.02, next_state=0), experience(state=7, action=1, reward=-0.02, next_state=8)]\n",
      "[experience(state=1, action=0, reward=-0.02, next_state=0), experience(state=4, action=1, reward=-0.02, next_state=7), experience(state=1, action=3, reward=-0.02, next_state=0), experience(state=4, action=2, reward=-0.02, next_state=0), experience(state=1, action=0, reward=-0.02, next_state=0)]\n",
      "[experience(state=0, action=0, reward=-0.02, next_state=0), experience(state=2, action=1, reward=0.98, next_state=3), experience(state=9, action=0, reward=-0.02, next_state=8), experience(state=8, action=2, reward=-0.02, next_state=8), experience(state=0, action=2, reward=-0.02, next_state=0)]\n",
      "[experience(state=4, action=2, reward=-0.02, next_state=0), experience(state=7, action=0, reward=-0.02, next_state=7), experience(state=10, action=1, reward=-0.02, next_state=10), experience(state=0, action=3, reward=-0.02, next_state=1), experience(state=7, action=0, reward=-0.02, next_state=7)]\n",
      "[experience(state=1, action=2, reward=-0.02, next_state=2), experience(state=0, action=0, reward=-0.02, next_state=0), experience(state=4, action=1, reward=-0.02, next_state=0), experience(state=8, action=3, reward=-0.02, next_state=8), experience(state=0, action=3, reward=-0.02, next_state=4)]\n",
      "[experience(state=0, action=3, reward=-0.02, next_state=4), experience(state=10, action=2, reward=-0.02, next_state=10), experience(state=5, action=0, reward=-0.02, next_state=5), experience(state=8, action=2, reward=-0.02, next_state=8), experience(state=9, action=1, reward=-0.02, next_state=10)]\n",
      "[experience(state=4, action=3, reward=-0.02, next_state=7), experience(state=9, action=2, reward=-0.02, next_state=5), experience(state=8, action=0, reward=-0.02, next_state=7), experience(state=1, action=2, reward=-0.02, next_state=2), experience(state=1, action=0, reward=-0.02, next_state=0)]\n",
      "[experience(state=7, action=0, reward=-0.02, next_state=4), experience(state=0, action=2, reward=-0.02, next_state=0), experience(state=10, action=2, reward=-1.02, next_state=6), experience(state=0, action=3, reward=-0.02, next_state=4), experience(state=4, action=3, reward=-0.02, next_state=7)]\n",
      "[experience(state=5, action=3, reward=-0.02, next_state=9), experience(state=7, action=3, reward=-0.02, next_state=7), experience(state=10, action=3, reward=-0.02, next_state=10), experience(state=7, action=0, reward=-0.02, next_state=7), experience(state=1, action=3, reward=-0.02, next_state=1)]\n",
      "[experience(state=1, action=2, reward=-0.02, next_state=2), experience(state=4, action=2, reward=-0.02, next_state=0), experience(state=9, action=2, reward=-0.02, next_state=5), experience(state=0, action=3, reward=-0.02, next_state=4), experience(state=10, action=1, reward=-0.02, next_state=10)]\n",
      "[experience(state=9, action=3, reward=-0.02, next_state=9), experience(state=4, action=3, reward=-0.02, next_state=7), experience(state=1, action=0, reward=-0.02, next_state=1), experience(state=8, action=1, reward=-0.02, next_state=9), experience(state=8, action=0, reward=-0.02, next_state=7)]\n",
      "[experience(state=1, action=3, reward=-0.02, next_state=1), experience(state=5, action=2, reward=-0.02, next_state=2), experience(state=5, action=3, reward=-0.02, next_state=9), experience(state=2, action=0, reward=-0.02, next_state=1), experience(state=2, action=1, reward=-0.02, next_state=5)]\n",
      "[experience(state=8, action=1, reward=-0.02, next_state=9), experience(state=1, action=3, reward=-0.02, next_state=1), experience(state=8, action=2, reward=-0.02, next_state=8), experience(state=0, action=3, reward=-0.02, next_state=1), experience(state=10, action=3, reward=-0.02, next_state=10)]\n",
      "[experience(state=9, action=3, reward=-0.02, next_state=9), experience(state=5, action=0, reward=-0.02, next_state=5), experience(state=4, action=2, reward=-0.02, next_state=0), experience(state=10, action=3, reward=-0.02, next_state=10), experience(state=9, action=0, reward=-0.02, next_state=8)]\n",
      "[experience(state=4, action=3, reward=-0.02, next_state=7), experience(state=2, action=0, reward=-0.02, next_state=1), experience(state=8, action=0, reward=-0.02, next_state=7), experience(state=5, action=1, reward=-1.02, next_state=6), experience(state=0, action=1, reward=-0.02, next_state=1)]\n",
      "[experience(state=1, action=3, reward=-0.02, next_state=0), experience(state=10, action=1, reward=-0.02, next_state=10), experience(state=4, action=3, reward=-0.02, next_state=7), experience(state=8, action=3, reward=-0.02, next_state=8), experience(state=2, action=3, reward=-0.02, next_state=5)]\n",
      "[experience(state=1, action=3, reward=-0.02, next_state=1), experience(state=2, action=2, reward=-0.02, next_state=2), experience(state=0, action=3, reward=-0.02, next_state=4), experience(state=8, action=2, reward=-0.02, next_state=8), experience(state=4, action=2, reward=-0.02, next_state=0)]\n",
      "[experience(state=4, action=2, reward=-0.02, next_state=0), experience(state=0, action=3, reward=-0.02, next_state=4), experience(state=4, action=1, reward=-0.02, next_state=4), experience(state=8, action=0, reward=-0.02, next_state=7), experience(state=0, action=1, reward=-0.02, next_state=1)]\n",
      "[experience(state=0, action=3, reward=-0.02, next_state=4), experience(state=0, action=0, reward=-0.02, next_state=0), experience(state=7, action=1, reward=-0.02, next_state=8), experience(state=0, action=0, reward=-0.02, next_state=0), experience(state=1, action=1, reward=-0.02, next_state=2)]\n",
      "[experience(state=10, action=3, reward=-0.02, next_state=10), experience(state=10, action=0, reward=-1.02, next_state=6), experience(state=9, action=3, reward=-0.02, next_state=9), experience(state=7, action=0, reward=-0.02, next_state=7), experience(state=9, action=0, reward=-0.02, next_state=8)]\n",
      "[experience(state=0, action=2, reward=-0.02, next_state=1), experience(state=7, action=1, reward=-0.02, next_state=4), experience(state=1, action=3, reward=-0.02, next_state=1), experience(state=7, action=3, reward=-0.02, next_state=7), experience(state=4, action=2, reward=-0.02, next_state=0)]\n",
      "[experience(state=9, action=0, reward=-0.02, next_state=8), experience(state=7, action=0, reward=-0.02, next_state=4), experience(state=1, action=0, reward=-0.02, next_state=0), experience(state=0, action=3, reward=-0.02, next_state=4), experience(state=4, action=1, reward=-0.02, next_state=4)]\n",
      "[experience(state=1, action=1, reward=-0.02, next_state=2), experience(state=7, action=1, reward=-0.02, next_state=7), experience(state=7, action=3, reward=-0.02, next_state=7), experience(state=1, action=3, reward=-0.02, next_state=1), experience(state=0, action=3, reward=-0.02, next_state=4)]\n",
      "[experience(state=10, action=1, reward=-0.02, next_state=10), experience(state=5, action=0, reward=-0.02, next_state=5), experience(state=0, action=3, reward=-0.02, next_state=1), experience(state=4, action=0, reward=-0.02, next_state=4), experience(state=1, action=2, reward=-0.02, next_state=1)]\n",
      "[experience(state=1, action=3, reward=-0.02, next_state=1), experience(state=2, action=1, reward=-0.02, next_state=2), experience(state=8, action=1, reward=-0.02, next_state=9), experience(state=10, action=1, reward=-0.02, next_state=10), experience(state=7, action=1, reward=-0.02, next_state=8)]\n",
      "[experience(state=10, action=2, reward=-1.02, next_state=6), experience(state=10, action=3, reward=-0.02, next_state=10), experience(state=4, action=3, reward=-0.02, next_state=4), experience(state=0, action=3, reward=-0.02, next_state=4), experience(state=7, action=2, reward=-0.02, next_state=7)]\n",
      "[experience(state=5, action=2, reward=-0.02, next_state=5), experience(state=1, action=3, reward=-0.02, next_state=1), experience(state=10, action=2, reward=-1.02, next_state=6), experience(state=8, action=3, reward=-0.02, next_state=9), experience(state=0, action=1, reward=-0.02, next_state=1)]\n",
      "[experience(state=1, action=3, reward=-0.02, next_state=1), experience(state=8, action=2, reward=-0.02, next_state=8), experience(state=1, action=1, reward=-0.02, next_state=1), experience(state=0, action=0, reward=-0.02, next_state=0), experience(state=8, action=1, reward=-0.02, next_state=9)]\n",
      "[experience(state=8, action=1, reward=-0.02, next_state=9), experience(state=10, action=0, reward=-0.02, next_state=9), experience(state=10, action=3, reward=-0.02, next_state=10), experience(state=4, action=1, reward=-0.02, next_state=4), experience(state=2, action=0, reward=-0.02, next_state=1)]\n",
      "[experience(state=4, action=2, reward=-0.02, next_state=4), experience(state=0, action=2, reward=-0.02, next_state=0), experience(state=1, action=2, reward=-0.02, next_state=1), experience(state=1, action=2, reward=-0.02, next_state=1), experience(state=7, action=0, reward=-0.02, next_state=7)]\n",
      "[experience(state=0, action=1, reward=-0.02, next_state=1), experience(state=2, action=1, reward=0.98, next_state=3), experience(state=2, action=2, reward=-0.02, next_state=2), experience(state=10, action=2, reward=-1.02, next_state=6), experience(state=10, action=0, reward=-0.02, next_state=9)]\n",
      "[experience(state=1, action=0, reward=-0.02, next_state=1), experience(state=0, action=1, reward=-0.02, next_state=1), experience(state=7, action=1, reward=-0.02, next_state=8), experience(state=10, action=1, reward=-0.02, next_state=10), experience(state=1, action=2, reward=-0.02, next_state=1)]\n",
      "[experience(state=5, action=2, reward=-0.02, next_state=2), experience(state=9, action=3, reward=-0.02, next_state=9), experience(state=7, action=3, reward=-0.02, next_state=7), experience(state=8, action=0, reward=-0.02, next_state=7), experience(state=7, action=1, reward=-0.02, next_state=8)]\n",
      "[experience(state=10, action=3, reward=-0.02, next_state=10), experience(state=2, action=0, reward=-0.02, next_state=2), experience(state=10, action=3, reward=-0.02, next_state=10), experience(state=4, action=2, reward=-0.02, next_state=0), experience(state=8, action=3, reward=-0.02, next_state=8)]\n",
      "[experience(state=4, action=3, reward=-0.02, next_state=7), experience(state=1, action=1, reward=-0.02, next_state=1), experience(state=1, action=3, reward=-0.02, next_state=1), experience(state=0, action=3, reward=-0.02, next_state=4), experience(state=1, action=3, reward=-0.02, next_state=1)]\n",
      "[experience(state=0, action=2, reward=-0.02, next_state=0), experience(state=2, action=2, reward=0.98, next_state=3), experience(state=8, action=2, reward=-0.02, next_state=9), experience(state=0, action=1, reward=-0.02, next_state=4), experience(state=5, action=0, reward=-0.02, next_state=9)]\n",
      "[experience(state=8, action=1, reward=-0.02, next_state=9), experience(state=8, action=2, reward=-0.02, next_state=8), experience(state=0, action=3, reward=-0.02, next_state=4), experience(state=2, action=0, reward=-0.02, next_state=1), experience(state=7, action=2, reward=-0.02, next_state=4)]\n",
      "[experience(state=4, action=2, reward=-0.02, next_state=0), experience(state=9, action=2, reward=-0.02, next_state=5), experience(state=9, action=1, reward=-0.02, next_state=10), experience(state=2, action=0, reward=-0.02, next_state=1), experience(state=2, action=2, reward=-0.02, next_state=2)]\n",
      "[experience(state=7, action=1, reward=-0.02, next_state=8), experience(state=5, action=2, reward=-0.02, next_state=2), experience(state=9, action=1, reward=-0.02, next_state=10), experience(state=2, action=2, reward=0.98, next_state=3), experience(state=1, action=3, reward=-0.02, next_state=1)]\n",
      "[experience(state=1, action=0, reward=-0.02, next_state=0), experience(state=0, action=3, reward=-0.02, next_state=4), experience(state=9, action=1, reward=-0.02, next_state=10), experience(state=5, action=2, reward=-0.02, next_state=2), experience(state=0, action=3, reward=-0.02, next_state=1)]\n",
      "[experience(state=8, action=0, reward=-0.02, next_state=8), experience(state=0, action=1, reward=-0.02, next_state=1), experience(state=8, action=3, reward=-0.02, next_state=8), experience(state=9, action=1, reward=-0.02, next_state=10), experience(state=9, action=1, reward=-0.02, next_state=10)]\n",
      "[experience(state=4, action=1, reward=-0.02, next_state=4), experience(state=2, action=0, reward=-0.02, next_state=1), experience(state=7, action=2, reward=-0.02, next_state=4), experience(state=4, action=2, reward=-0.02, next_state=0), experience(state=1, action=3, reward=-0.02, next_state=1)]\n",
      "[experience(state=5, action=0, reward=-0.02, next_state=2), experience(state=8, action=3, reward=-0.02, next_state=8), experience(state=7, action=2, reward=-0.02, next_state=7), experience(state=4, action=3, reward=-0.02, next_state=7), experience(state=0, action=2, reward=-0.02, next_state=0)]\n",
      "[experience(state=5, action=1, reward=-0.02, next_state=2), experience(state=7, action=3, reward=-0.02, next_state=7), experience(state=2, action=2, reward=-0.02, next_state=2), experience(state=8, action=3, reward=-0.02, next_state=8), experience(state=2, action=0, reward=-0.02, next_state=1)]\n",
      "[experience(state=0, action=1, reward=-0.02, next_state=0), experience(state=7, action=1, reward=-0.02, next_state=8), experience(state=0, action=3, reward=-0.02, next_state=4), experience(state=7, action=0, reward=-0.02, next_state=7), experience(state=9, action=1, reward=-0.02, next_state=10)]\n",
      "[experience(state=1, action=0, reward=-0.02, next_state=0), experience(state=7, action=1, reward=-0.02, next_state=8), experience(state=0, action=1, reward=-0.02, next_state=1), experience(state=8, action=1, reward=-0.02, next_state=9), experience(state=1, action=2, reward=-0.02, next_state=1)]\n",
      "[experience(state=0, action=3, reward=-0.02, next_state=1), experience(state=8, action=1, reward=-0.02, next_state=9), experience(state=5, action=1, reward=-1.02, next_state=6), experience(state=10, action=3, reward=-0.02, next_state=10), experience(state=8, action=1, reward=-0.02, next_state=9)]\n",
      "[experience(state=4, action=3, reward=-0.02, next_state=7), experience(state=1, action=1, reward=-0.02, next_state=1), experience(state=9, action=2, reward=-0.02, next_state=5), experience(state=1, action=1, reward=-0.02, next_state=2), experience(state=0, action=1, reward=-0.02, next_state=4)]\n",
      "[experience(state=2, action=3, reward=-0.02, next_state=5), experience(state=8, action=2, reward=-0.02, next_state=8), experience(state=0, action=1, reward=-0.02, next_state=4), experience(state=8, action=3, reward=-0.02, next_state=9), experience(state=2, action=1, reward=0.98, next_state=3)]\n",
      "[experience(state=9, action=2, reward=-0.02, next_state=5), experience(state=4, action=1, reward=-0.02, next_state=4), experience(state=10, action=1, reward=-0.02, next_state=10), experience(state=8, action=0, reward=-0.02, next_state=7), experience(state=7, action=3, reward=-0.02, next_state=7)]\n",
      "[experience(state=2, action=3, reward=-0.02, next_state=5), experience(state=5, action=2, reward=-0.02, next_state=2), experience(state=1, action=1, reward=-0.02, next_state=2), experience(state=4, action=3, reward=-0.02, next_state=7), experience(state=1, action=3, reward=-0.02, next_state=1)]\n",
      "[experience(state=1, action=1, reward=-0.02, next_state=1), experience(state=1, action=1, reward=-0.02, next_state=2), experience(state=4, action=2, reward=-0.02, next_state=0), experience(state=1, action=3, reward=-0.02, next_state=2), experience(state=2, action=1, reward=0.98, next_state=3)]\n",
      "[experience(state=1, action=3, reward=-0.02, next_state=1), experience(state=9, action=1, reward=-0.02, next_state=9), experience(state=7, action=0, reward=-0.02, next_state=7), experience(state=0, action=3, reward=-0.02, next_state=4), experience(state=7, action=2, reward=-0.02, next_state=4)]\n",
      "[experience(state=7, action=1, reward=-0.02, next_state=8), experience(state=4, action=2, reward=-0.02, next_state=0), experience(state=9, action=0, reward=-0.02, next_state=8), experience(state=7, action=0, reward=-0.02, next_state=7), experience(state=7, action=0, reward=-0.02, next_state=7)]\n"
     ]
    }
   ],
   "source": [
    "# DQN - numpy implementation\n",
    "\n",
    "import numpy as np\n",
    "import random\n",
    "import matplotlib.pyplot as plt\n",
    "from copy import deepcopy\n",
    "from collections import deque, namedtuple\n",
    "import logging\n",
    "\n",
    "from dqn_env import ENVIRONMENT\n",
    "from dqn_ops import one_hot_encode\n",
    "\n",
    "# this line is not needed in py file\n",
    "%matplotlib inline\n",
    "# this line is not needed in py file\n",
    "\n",
    "np.random.seed(0)\n",
    "random.seed(0)\n",
    "\n",
    "logging.basicConfig(level=logging.DEBUG, format='%(message)s')\n",
    "\n",
    "\"\"\" Hyper Parameters \"\"\"\n",
    "gamma = 0.99\n",
    "max_episodes = 1 #10000\n",
    "memory_size = 1000\n",
    "num_burning_episode = 100\n",
    "batch_size = 5 #32\n",
    "copy_period = 100\n",
    "test_period = 100\n",
    "epsilon_test = 0.00\n",
    "\n",
    "\"\"\" Environment \"\"\"\n",
    "env = ENVIRONMENT()\n",
    "exp = namedtuple('experience', ['state', 'action', 'reward', 'next_state'])\n",
    "\n",
    "\"\"\" Q-net and target Q-net \"\"\"\n",
    "W = np.random.uniform(0.0, 1.0, [env.num_states, env.num_actions])\n",
    "W_target = deepcopy(W)\n",
    "\n",
    "\"\"\" Replay Memory\"\"\"\n",
    "replay_memory = deque(maxlen=memory_size)\n",
    "\n",
    "\"\"\" Burning Period \"\"\"\n",
    "logging.info('Initial Burning Period')\n",
    "for _ in range(num_burning_episode):\n",
    "    env.current_state, env.done = env.reset()\n",
    "    \n",
    "    while not env.done:\n",
    "        # we take random action so that\n",
    "        # samples are less correlated\n",
    "        # initially these samples will fill the replay memory\n",
    "        action = env.random_action() # this is random action\n",
    "        env.reward, next_state, env.done, _, _ = env.step(action)\n",
    "        \n",
    "        sample = exp(state=env.current_state, \\\n",
    "                     action=action, \\\n",
    "                     reward=env.reward, \\\n",
    "                     next_state=next_state)\n",
    "        replay_memory.append(sample)\n",
    "\n",
    "        env.current_state = next_state\n",
    "\n",
    "\"\"\" Training \"\"\"\n",
    "logging.info('Training Start')\n",
    "train_step = 0\n",
    "cum_return_test = []\n",
    "step_history = []\n",
    "for episode_num in range(max_episodes):\n",
    "    # Reset Environment and Reset Cum. Reward\n",
    "    env.current_state, env.done = env.reset()\n",
    "\n",
    "    learning_rate = 1. / ((episode_num * 0.1) + 1.)\n",
    "    epsilon = 1. / ((episode_num * 0.1) + 1.)\n",
    "\n",
    "    while not env.done:\n",
    "        \n",
    "        # Action Selection\n",
    "        if np.random.uniform(0.,1.) > epsilon:\n",
    "            state_one_hot = one_hot_encode([env.current_state], env.num_states) # rank 2\n",
    "            action = np.argmax(state_one_hot @ W)\n",
    "        else:\n",
    "            action = env.random_action() # random action\n",
    "            \n",
    "        env.reward, next_state, env.done, _, _ = env.step(action)\n",
    "\n",
    "        sample = exp(state=env.current_state, \\\n",
    "                     action=action, \\\n",
    "                     reward=env.reward, \\\n",
    "                     next_state=next_state)\n",
    "        replay_memory.append(sample)\n",
    "        \n",
    "        env.current_state = next_state\n",
    "\n",
    "        # Sample scenarios from replay-memory.\n",
    "        samples = random.sample(replay_memory, batch_size)\n",
    "        \n",
    "        print(samples)"
   ]
  },
  {
   "cell_type": "code",
   "execution_count": 18,
   "metadata": {},
   "outputs": [
    {
     "name": "stderr",
     "output_type": "stream",
     "text": [
      "Loaded backend module://ipykernel.pylab.backend_inline version unknown.\n",
      "Initial Burning Period\n",
      "Training Start\n",
      "Episode  100\n",
      "Episode  200\n",
      "Episode  300\n",
      "Episode  400\n",
      "Episode  500\n",
      "Episode  600\n",
      "Episode  700\n",
      "Episode  800\n",
      "Episode  900\n",
      "Episode  1000\n",
      "Episode  1100\n",
      "Episode  1200\n",
      "Episode  1300\n",
      "Episode  1400\n",
      "Episode  1500\n",
      "Episode  1600\n",
      "Episode  1700\n",
      "Episode  1800\n",
      "Episode  1900\n",
      "Episode  2000\n",
      "Episode  2100\n",
      "Episode  2200\n",
      "Episode  2300\n",
      "Episode  2400\n",
      "Episode  2500\n",
      "Episode  2600\n",
      "Episode  2700\n",
      "Episode  2800\n",
      "Episode  2900\n",
      "Episode  3000\n",
      "Episode  3100\n",
      "Episode  3200\n",
      "Episode  3300\n",
      "Episode  3400\n",
      "Episode  3500\n",
      "Episode  3600\n",
      "Episode  3700\n",
      "Episode  3800\n",
      "Episode  3900\n",
      "Episode  4000\n",
      "Episode  4100\n",
      "Episode  4200\n",
      "Episode  4300\n",
      "Episode  4400\n",
      "Episode  4500\n",
      "Episode  4600\n",
      "Episode  4700\n",
      "Episode  4800\n",
      "Episode  4900\n",
      "Episode  5000\n",
      "Episode  5100\n",
      "Episode  5200\n",
      "Episode  5300\n",
      "Episode  5400\n",
      "Episode  5500\n",
      "Episode  5600\n",
      "Episode  5700\n",
      "Episode  5800\n",
      "Episode  5900\n",
      "Episode  6000\n",
      "Episode  6100\n",
      "Episode  6200\n",
      "Episode  6300\n",
      "Episode  6400\n",
      "Episode  6500\n",
      "Episode  6600\n",
      "Episode  6700\n",
      "Episode  6800\n",
      "Episode  6900\n",
      "Episode  7000\n",
      "Episode  7100\n",
      "Episode  7200\n",
      "Episode  7300\n",
      "Episode  7400\n",
      "Episode  7500\n",
      "Episode  7600\n",
      "Episode  7700\n",
      "Episode  7800\n",
      "Episode  7900\n",
      "Episode  8000\n",
      "Episode  8100\n",
      "Episode  8200\n",
      "Episode  8300\n",
      "Episode  8400\n",
      "Episode  8500\n",
      "Episode  8600\n",
      "Episode  8700\n",
      "Episode  8800\n",
      "Episode  8900\n",
      "Episode  9000\n",
      "Episode  9100\n",
      "Episode  9200\n",
      "Episode  9300\n",
      "Episode  9400\n",
      "Episode  9500\n",
      "Episode  9600\n",
      "Episode  9700\n",
      "Episode  9800\n",
      "Episode  9900\n",
      "Episode  10000\n",
      "update_title_pos\n",
      "update_title_pos\n",
      "update_title_pos\n",
      "update_title_pos\n"
     ]
    },
    {
     "name": "stdout",
     "output_type": "stream",
     "text": [
      "0.9918\n"
     ]
    },
    {
     "data": {
      "image/png": "[encoded data removed]",
      "text/plain": [
       "<Figure size 432x288 with 1 Axes>"
      ]
     },
     "metadata": {
      "needs_background": "light"
     },
     "output_type": "display_data"
    },
    {
     "name": "stderr",
     "output_type": "stream",
     "text": [
      "update_title_pos\n",
      "update_title_pos\n",
      "update_title_pos\n",
      "update_title_pos\n"
     ]
    },
    {
     "data": {
      "image/png": "[encoded data removed]",
      "text/plain": [
       "<Figure size 432x288 with 1 Axes>"
      ]
     },
     "metadata": {
      "needs_background": "light"
     },
     "output_type": "display_data"
    }
   ],
   "source": [
    "# DQN - numpy implementation\n",
    "\n",
    "import numpy as np\n",
    "import random\n",
    "import matplotlib.pyplot as plt\n",
    "from copy import deepcopy\n",
    "from collections import deque, namedtuple\n",
    "import logging\n",
    "\n",
    "from dqn_env import ENVIRONMENT\n",
    "from dqn_ops import one_hot_encode\n",
    "\n",
    "# this line is not needed in py file\n",
    "%matplotlib inline\n",
    "# this line is not needed in py file\n",
    "\n",
    "np.random.seed(0)\n",
    "random.seed(0)\n",
    "\n",
    "logging.basicConfig(level=logging.DEBUG, format='%(message)s')\n",
    "\n",
    "\"\"\" Hyper Parameters \"\"\"\n",
    "gamma = 0.99\n",
    "max_episodes = 10000\n",
    "memory_size = 1000\n",
    "num_burning_episode = 100\n",
    "batch_size = 32\n",
    "copy_period = 100\n",
    "test_period = 100\n",
    "epsilon_test = 0.00\n",
    "\n",
    "\"\"\" Environment \"\"\"\n",
    "env = ENVIRONMENT()\n",
    "exp = namedtuple('experience', ['state', 'action', 'reward', 'next_state'])\n",
    "\n",
    "\"\"\" Q-net and target Q-net \"\"\"\n",
    "W = np.random.uniform(0.0, 1.0, [env.num_states, env.num_actions])\n",
    "W_target = deepcopy(W)\n",
    "\n",
    "\"\"\" Replay Memory\"\"\"\n",
    "replay_memory = deque(maxlen=memory_size)\n",
    "\n",
    "\"\"\" Burning Period \"\"\"\n",
    "logging.info('Initial Burning Period')\n",
    "for _ in range(num_burning_episode):\n",
    "    env.current_state, env.done = env.reset()\n",
    "    \n",
    "    while not env.done:\n",
    "        # we take random action so that\n",
    "        # samples are less correlated\n",
    "        # initially these samples will fill the replay memory\n",
    "        action = env.random_action() # this is random action\n",
    "        env.reward, next_state, env.done, _, _ = env.step(action)\n",
    "        \n",
    "        sample = exp(state=env.current_state, \\\n",
    "                     action=action, \\\n",
    "                     reward=env.reward, \\\n",
    "                     next_state=next_state)\n",
    "        replay_memory.append(sample)\n",
    "\n",
    "        env.current_state = next_state\n",
    "\n",
    "\"\"\" Training \"\"\"\n",
    "logging.info('Training Start')\n",
    "train_step = 0\n",
    "cum_return_test = []\n",
    "step_history = []\n",
    "for episode_num in range(max_episodes):\n",
    "    # Reset Environment and Reset Cum. Reward\n",
    "    env.current_state, env.done = env.reset()\n",
    "\n",
    "    learning_rate = 1. / ((episode_num * 0.1) + 1.)\n",
    "    epsilon = 1. / ((episode_num * 0.1) + 1.)\n",
    "\n",
    "    while not env.done:\n",
    "        \n",
    "        # Action Selection\n",
    "        if np.random.uniform(0.,1.) > epsilon:\n",
    "            state_one_hot = one_hot_encode([env.current_state], env.num_states) # rank 2\n",
    "            action = np.argmax(state_one_hot @ W)\n",
    "        else:\n",
    "            action = env.random_action() # random action\n",
    "            \n",
    "        env.reward, next_state, env.done, _, _ = env.step(action)\n",
    "\n",
    "        sample = exp(state=env.current_state, \\\n",
    "                     action=action, \\\n",
    "                     reward=env.reward, \\\n",
    "                     next_state=next_state)\n",
    "        replay_memory.append(sample)\n",
    "        \n",
    "        env.current_state = next_state\n",
    "\n",
    "        # Sample scenarios from replay-memory.\n",
    "        samples = random.sample(replay_memory, batch_size)\n",
    "\n",
    "        states_ = [sample.state for sample in samples]\n",
    "        actions_ = [sample.action for sample in samples]\n",
    "        rewards_ = [sample.reward for sample in samples]\n",
    "        next_states_ = [sample.next_state for sample in samples]\n",
    "\n",
    "        states = one_hot_encode(states_, env.num_states) # rank 2\n",
    "        actions = one_hot_encode(actions_, env.num_actions) # rank 2\n",
    "        rewards = np.reshape(np.array(rewards_, dtype=np.float32), (-1, 1))\n",
    "        next_states = one_hot_encode(next_states_, env.num_states) # rank 2\n",
    "\n",
    "        # Make target for Q-net.\n",
    "        q_target_max = np.amax(np.matmul(next_states, W_target), axis=1, keepdims=True)\n",
    "        targets = rewards + gamma * q_target_max # (32,1)\n",
    "\n",
    "        # Weight Update\n",
    "        q_val = np.sum(np.matmul(states, W) * actions, axis=1, keepdims=True) # (32,1)\n",
    "        gradient = np.reshape((targets - q_val), [-1]) # negative gradient up to constant multiplication \n",
    "        # you have to choose one of the following three update rule\n",
    "        if 0:\n",
    "            # this implementation is wrong\n",
    "            W[states_, actions_] += learning_rate * gradient\n",
    "        elif 0:\n",
    "            # this implementation is correct\n",
    "            # but, not good for reading\n",
    "            for i in range(batch_size):\n",
    "                W[states_[i], actions_[i]] += learning_rate * gradient[i]\n",
    "        elif 1:\n",
    "            dW = np.zeros(W.shape)\n",
    "            for i in range(batch_size):\n",
    "                dW[states_[i], actions_[i]] += gradient[i]\n",
    "            W += learning_rate * dW\n",
    "\n",
    "        train_step += 1 # count gradient descent update\n",
    "\n",
    "        # Network Synchronization\n",
    "        if train_step % copy_period == 0:\n",
    "            W_target = deepcopy(W)\n",
    "\n",
    "        # Terminal of Scenario.\n",
    "        if env.done:\n",
    "            if env.current_state == env.win_state:\n",
    "                step_history.append(1)\n",
    "            if env.current_state == env.lose_state:\n",
    "                step_history.append(0)\n",
    "            break\n",
    "\n",
    "    if (episode_num + 1) % 100 == 0:\n",
    "        logging.info('Episode  %d' % (episode_num+1))\n",
    "\n",
    "    \"\"\" Test \"\"\"\n",
    "    if episode_num % test_period == 0:\n",
    "        env.current_state, env.done = env.reset()\n",
    "        cum_rwd = 0.0\n",
    "\n",
    "        while not env.done:\n",
    "            \n",
    "            # Action Selection\n",
    "            if np.random.uniform(0.,1.) > epsilon_test:\n",
    "                state_one_hot = one_hot_encode([env.current_state], env.num_states) # rank 2\n",
    "                action = np.argmax(state_one_hot @ W)\n",
    "            else:\n",
    "                action = env.random_action()\n",
    "\n",
    "            env.reward, next_state, env.done, _, _ = env.step(action)\n",
    "            cum_rwd += env.reward\n",
    "            \n",
    "            if cum_rwd < -10.:\n",
    "                break\n",
    "\n",
    "            env.current_state = next_state\n",
    "\n",
    "        cum_return_test.append(cum_rwd)\n",
    "\n",
    "fig = plt.figure(1)\n",
    "history = np.cumsum(step_history) / (np.arange(max_episodes) + 1)\n",
    "print(history[-1])\n",
    "plt.plot(history)\n",
    "plt.show()\n",
    "\n",
    "fig = plt.figure(2)\n",
    "plt.plot(np.arange(len(cum_return_test)) * test_period, cum_return_test)\n",
    "plt.xlabel('episode.')\n",
    "plt.ylabel('cum. reward')\n",
    "plt.show()"
   ]
  },
  {
   "cell_type": "code",
   "execution_count": 5,
   "metadata": {},
   "outputs": [
    {
     "name": "stdout",
     "output_type": "stream",
     "text": [
      "[1. 3. 3.]\n",
      "[[0.  1.1]\n",
      " [2.  3.2]]\n"
     ]
    }
   ],
   "source": [
    "import numpy as np\n",
    "\n",
    "W = np.array([[0., 1.],\n",
    "              [2., 3.]])\n",
    "\n",
    "states = [0,1,1]\n",
    "actions = [1,1,1]\n",
    "    \n",
    "print(W[states,actions])\n",
    "\n",
    "lr = 1.\n",
    "delta = np.array([0.1,-0.1,0.2])\n",
    "\n",
    "if 0:\n",
    "    W[states,actions] += lr*delta\n",
    "elif 0:\n",
    "    for i in range(3):\n",
    "        W[states[i],actions[i]] += lr*delta[i]\n",
    "elif 1:\n",
    "    dW = np.zeros(W.shape)\n",
    "    for i in range(len(states)):\n",
    "        dW[states[i], actions[i]] += delta[i]\n",
    "    W += lr * dW\n",
    "    \n",
    "print(W)"
   ]
  },
  {
   "cell_type": "markdown",
   "metadata": {
    "slideshow": {
     "slide_type": "slide"
    }
   },
   "source": [
    "# DQN - tensorflow implementation"
   ]
  },
  {
   "cell_type": "code",
   "execution_count": 1,
   "metadata": {},
   "outputs": [
    {
     "name": "stderr",
     "output_type": "stream",
     "text": [
      "Initial Burning Period\n",
      "Training Start\n",
      "Episode  100\n",
      "Episode  200\n",
      "Episode  300\n",
      "Episode  400\n",
      "Episode  500\n",
      "Episode  600\n",
      "Episode  700\n",
      "Episode  800\n",
      "Episode  900\n",
      "Episode  1000\n",
      "Episode  1100\n",
      "Episode  1200\n",
      "Episode  1300\n",
      "Episode  1400\n",
      "Episode  1500\n",
      "Episode  1600\n",
      "Episode  1700\n",
      "Episode  1800\n",
      "Episode  1900\n",
      "Episode  2000\n",
      "Episode  2100\n",
      "Episode  2200\n",
      "Episode  2300\n",
      "Episode  2400\n",
      "Episode  2500\n",
      "Episode  2600\n",
      "Episode  2700\n",
      "Episode  2800\n",
      "Episode  2900\n",
      "Episode  3000\n",
      "Episode  3100\n",
      "Episode  3200\n",
      "Episode  3300\n",
      "Episode  3400\n",
      "Episode  3500\n",
      "Episode  3600\n",
      "Episode  3700\n",
      "Episode  3800\n",
      "Episode  3900\n",
      "Episode  4000\n",
      "Episode  4100\n",
      "Episode  4200\n",
      "Episode  4300\n",
      "Episode  4400\n",
      "Episode  4500\n",
      "Episode  4600\n",
      "Episode  4700\n",
      "Episode  4800\n",
      "Episode  4900\n",
      "Episode  5000\n",
      "Episode  5100\n",
      "Episode  5200\n",
      "Episode  5300\n",
      "Episode  5400\n",
      "Episode  5500\n",
      "Episode  5600\n",
      "Episode  5700\n",
      "Episode  5800\n",
      "Episode  5900\n",
      "Episode  6000\n",
      "Episode  6100\n",
      "Episode  6200\n",
      "Episode  6300\n",
      "Episode  6400\n",
      "Episode  6500\n",
      "Episode  6600\n",
      "Episode  6700\n",
      "Episode  6800\n",
      "Episode  6900\n",
      "Episode  7000\n",
      "Episode  7100\n",
      "Episode  7200\n",
      "Episode  7300\n",
      "Episode  7400\n",
      "Episode  7500\n",
      "Episode  7600\n",
      "Episode  7700\n",
      "Episode  7800\n",
      "Episode  7900\n",
      "Episode  8000\n",
      "Episode  8100\n",
      "Episode  8200\n",
      "Episode  8300\n",
      "Episode  8400\n",
      "Episode  8500\n",
      "Episode  8600\n",
      "Episode  8700\n",
      "Episode  8800\n",
      "Episode  8900\n",
      "Episode  9000\n",
      "Episode  9100\n",
      "Episode  9200\n",
      "Episode  9300\n",
      "Episode  9400\n",
      "Episode  9500\n",
      "Episode  9600\n",
      "Episode  9700\n",
      "Episode  9800\n",
      "Episode  9900\n",
      "Episode  10000\n",
      "Episode  10100\n",
      "Episode  10200\n",
      "Episode  10300\n",
      "Episode  10400\n",
      "Episode  10500\n",
      "Episode  10600\n",
      "Episode  10700\n",
      "Episode  10800\n",
      "Episode  10900\n",
      "Episode  11000\n",
      "Episode  11100\n",
      "Episode  11200\n",
      "Episode  11300\n",
      "Episode  11400\n",
      "Episode  11500\n",
      "Episode  11600\n",
      "Episode  11700\n",
      "Episode  11800\n",
      "Episode  11900\n",
      "Episode  12000\n",
      "Episode  12100\n",
      "Episode  12200\n",
      "Episode  12300\n",
      "Episode  12400\n",
      "Episode  12500\n",
      "Episode  12600\n",
      "Episode  12700\n",
      "Episode  12800\n",
      "Episode  12900\n",
      "Episode  13000\n",
      "Episode  13100\n",
      "Episode  13200\n",
      "Episode  13300\n",
      "Episode  13400\n",
      "Episode  13500\n",
      "Episode  13600\n",
      "Episode  13700\n",
      "Episode  13800\n",
      "Episode  13900\n",
      "Episode  14000\n",
      "Episode  14100\n",
      "Episode  14200\n",
      "Episode  14300\n",
      "Episode  14400\n",
      "Episode  14500\n",
      "Episode  14600\n",
      "Episode  14700\n",
      "Episode  14800\n",
      "Episode  14900\n",
      "Episode  15000\n",
      "Episode  15100\n",
      "Episode  15200\n",
      "Episode  15300\n",
      "Episode  15400\n",
      "Episode  15500\n",
      "Episode  15600\n",
      "Episode  15700\n",
      "Episode  15800\n",
      "Episode  15900\n",
      "Episode  16000\n",
      "Episode  16100\n",
      "Episode  16200\n",
      "Episode  16300\n",
      "Episode  16400\n",
      "Episode  16500\n",
      "Episode  16600\n",
      "Episode  16700\n",
      "Episode  16800\n",
      "Episode  16900\n",
      "Episode  17000\n",
      "Episode  17100\n",
      "Episode  17200\n",
      "Episode  17300\n",
      "Episode  17400\n",
      "Episode  17500\n",
      "Episode  17600\n",
      "Episode  17700\n",
      "Episode  17800\n",
      "Episode  17900\n",
      "Episode  18000\n",
      "Episode  18100\n",
      "Episode  18200\n",
      "Episode  18300\n",
      "Episode  18400\n",
      "Episode  18500\n",
      "Episode  18600\n",
      "Episode  18700\n",
      "Episode  18800\n",
      "Episode  18900\n",
      "Episode  19000\n",
      "Episode  19100\n",
      "Episode  19200\n",
      "Episode  19300\n",
      "Episode  19400\n",
      "Episode  19500\n",
      "Episode  19600\n",
      "Episode  19700\n",
      "Episode  19800\n",
      "Episode  19900\n",
      "Episode  20000\n",
      "update_title_pos\n",
      "findfont: Matching :family=sans-serif:style=normal:variant=normal:weight=normal:stretch=normal:size=10.0 to DejaVu Sans ('/anaconda3/lib/python3.5/site-packages/matplotlib/mpl-data/fonts/ttf/DejaVuSans.ttf') with score of 0.050000.\n",
      "update_title_pos\n",
      "update_title_pos\n",
      "update_title_pos\n"
     ]
    },
    {
     "name": "stdout",
     "output_type": "stream",
     "text": [
      "0.9859\n"
     ]
    },
    {
     "data": {
      "image/png": "[encoded data removed]",
      "text/plain": [
       "<Figure size 432x288 with 1 Axes>"
      ]
     },
     "metadata": {
      "needs_background": "light"
     },
     "output_type": "display_data"
    },
    {
     "name": "stderr",
     "output_type": "stream",
     "text": [
      "update_title_pos\n",
      "update_title_pos\n",
      "update_title_pos\n",
      "update_title_pos\n"
     ]
    },
    {
     "data": {
      "image/png": "[encoded data removed]",
      "text/plain": [
       "<Figure size 432x288 with 1 Axes>"
      ]
     },
     "metadata": {
      "needs_background": "light"
     },
     "output_type": "display_data"
    },
    {
     "name": "stderr",
     "output_type": "stream",
     "text": [
      "Loaded backend module://ipykernel.pylab.backend_inline version unknown.\n"
     ]
    }
   ],
   "source": [
    "# DQN - tensorflow implementation\n",
    "\n",
    "import tensorflow as tf\n",
    "import numpy as np\n",
    "import random\n",
    "import matplotlib.pyplot as plt\n",
    "import logging\n",
    "import threading\n",
    "from collections import deque, namedtuple\n",
    "\n",
    "from dqn_env import ENVIRONMENT\n",
    "from dqn_ops import one_hot_encode, variable_copy \n",
    "from dqn_q_net import QNet\n",
    "\n",
    "# this line is not needed in py file\n",
    "%matplotlib inline\n",
    "# this line is not needed in py file\n",
    "\n",
    "np.random.seed(0)\n",
    "random.seed(0)\n",
    "tf.random.set_random_seed(0) \n",
    "\n",
    "logging.basicConfig(level=logging.DEBUG, format='%(message)s')\n",
    "\n",
    "\"\"\" Hyper Parameters \"\"\"\n",
    "gamma = 0.99\n",
    "max_episodes = 20000\n",
    "memory_size = 1000\n",
    "num_burning_episode = 100\n",
    "batch_size = 32\n",
    "copy_period = 100\n",
    "test_period = 100\n",
    "epsilon_test = 0.00\n",
    "\n",
    "\"\"\" Environment \"\"\"\n",
    "env = ENVIRONMENT()\n",
    "exp = namedtuple('experience', ['state', 'action', 'reward', 'next_state', 'done'])\n",
    "\n",
    "\" Train-Queue \"\n",
    "train_q = tf.FIFOQueue(capacity=batch_size*4, \\\n",
    "                       #      ['state',   'action', 'reward',   'next_state', 'done']\n",
    "                       dtypes=[tf.float32, tf.int32, tf.float32, tf.float32, tf.bool], \\\n",
    "                       shapes=[(env.num_states,), (), (1,), (env.num_states,), (1,)], \\\n",
    "                       # shapes=[[env.num_states], [], [1], [env.num_states], [1]], \\\n",
    "                       name='train_queue')\n",
    "\n",
    "\" Inputs Placeholder \"\n",
    "state_holder = tf.placeholder(tf.float32, \\\n",
    "                              shape=[None, env.num_states], \\\n",
    "                              name='state_holder')\n",
    "action_holder = tf.placeholder(tf.int32, \\\n",
    "                               shape=[None], \\\n",
    "                               name='action_holder')\n",
    "reward_holder = tf.placeholder(tf.float32, \\\n",
    "                               shape=[None, 1], \\\n",
    "                               name='reward_holder')\n",
    "next_state_holder = tf.placeholder(tf.float32, \\\n",
    "                                   shape=[None, env.num_states], \\\n",
    "                                   name='next_state_holder')\n",
    "done_holder = tf.placeholder(tf.bool, \\\n",
    "                             shape=[None, 1], \\\n",
    "                             name='state_holder')\n",
    "\n",
    "lr_rate = tf.placeholder(dtype=tf.float32, \\\n",
    "                         shape=[], \\\n",
    "                         name='lr_rate')\n",
    "\n",
    "state_holder_explore = tf.placeholder(tf.float32, \\\n",
    "                                      shape=[None, env.num_states], \\\n",
    "                                      name='state_holder_explore')\n",
    "\n",
    "\" Queue Ops \"\n",
    "enqueue_op = train_q.enqueue_many([state_holder, \\\n",
    "                                   action_holder, \\\n",
    "                                   reward_holder, \\\n",
    "                                   next_state_holder, \\\n",
    "                                   done_holder])\n",
    "states, actions, rewards, next_states, dones = train_q.dequeue_many(batch_size)\n",
    "q_close = train_q.close(cancel_pending_enqueues=True)\n",
    "\n",
    "\"\"\" Q-net and target Q-net \"\"\"\n",
    "# this is computation steps using W in numpy implemenation.\n",
    "# during training we allow the backpropagation to pass this block\n",
    "# by setting\n",
    "# train_ops = opt.minimize(q_loss, \\\n",
    "#                          var_list=tf.get_collection(tf.GraphKeys.TRAINABLE_VARIABLES, \\\n",
    "#                                                     Qnet.name))\n",
    "with tf.variable_scope('qnet') as scope:\n",
    "    Qnet = QNet(num_states=env.num_states, \\\n",
    "                num_actions=env.num_actions, \\\n",
    "                name=scope.name) # scope.name = 'qnet' \n",
    "    qnet = Qnet(states)\n",
    "    qnet_explore = Qnet(state_holder_explore, reuse=True)\n",
    "    greedy_action = tf.argmax(qnet_explore, axis=1)[0]\n",
    "\n",
    "# check variable names\n",
    "# print(tf.get_collection(tf.GraphKeys.TRAINABLE_VARIABLES))\n",
    "# [<tf.Variable 'qnet/weight1:0' shape=(11, 4) dtype=float32_ref>]\n",
    "\n",
    "# this is computation steps using W_target in numpy implemenation.\n",
    "# during training we block the backpropagation to pass this block\n",
    "# by setting\n",
    "# train_ops = opt.minimize(q_loss, \\\n",
    "#                          var_list=tf.get_collection(tf.GraphKeys.TRAINABLE_VARIABLES, \\\n",
    "#                                                     Qnet.name))\n",
    "with tf.variable_scope('target_qnet') as scope:\n",
    "    Qnet_target = QNet(num_states=env.num_states, \\\n",
    "                       num_actions=env.num_actions, \\\n",
    "                       name=scope.name) # scope.name = 'target_qnet' \n",
    "    qnet_target = Qnet_target(next_states)\n",
    "    qnet_target_max = tf.reduce_max(qnet_target, axis=1, keepdims=True)\n",
    "    \n",
    "# check variable names\n",
    "# print(tf.get_collection(tf.GraphKeys.TRAINABLE_VARIABLES))\n",
    "# [<tf.Variable 'qnet/weight1:0' shape=(11, 4) dtype=float32_ref>, \n",
    "# <tf.Variable 'target_qnet/weight1:0' shape=(11, 4) dtype=float32_ref>]\n",
    "#\n",
    "# https://stackoverflow.com/questions/37958706/in-tensorflow-what-is-the-difference-between-a-tensor-that-has-a-type-ending-in\n",
    "#\n",
    "# In Tensorflow, what is the difference between \n",
    "# a tensor that has a type ending in _ref and a tensor that does not?\n",
    "# A reference-typed tensor is mutable. \n",
    "# The most common way to create a reference-typed tensor is to define a tf.Variable: \n",
    "# defining a tf.Variable whose initial value has dtype tf.float32 \n",
    "# will create a reference-typed tensor with dtype tf.float32_ref.\n",
    "\n",
    "\"\"\" Variables Copy Operation \"\"\"\n",
    "# we run this copy_ops periodically\n",
    "# to do W_target = deepcopy(W) in numpy implemenation\n",
    "copy_ops = variable_copy(from_scope=Qnet.name, to_scope=Qnet_target.name)\n",
    "\n",
    "\"\"\" Q-target \"\"\"\n",
    "# q_target is like a label in the supervised learing\n",
    "# so that it is fixed during training.\n",
    "# that is why we block the backpropagation using tf.stop_gradient \n",
    "q_target = tf.stop_gradient(\n",
    "    (1.0 - tf.to_float(dones)) * (rewards + gamma * qnet_target_max) \\\n",
    "    + tf.to_float(dones) * rewards)\n",
    "# q_target = tf.stop_gradient(rewards + gamma * qnet_target_max)\n",
    "\n",
    "\"\"\" Loss & Training Operations\"\"\"\n",
    "q_sa = tf.reduce_sum(qnet * tf.one_hot(actions, env.num_actions, dtype=tf.float32), \\\n",
    "                     axis=1, \\\n",
    "                     keepdims=True)\n",
    "q_loss = tf.reduce_mean(tf.square(q_sa - q_target))\n",
    "opt = tf.train.GradientDescentOptimizer(learning_rate=lr_rate)\n",
    "train_ops = opt.minimize(q_loss, \\\n",
    "                         var_list=tf.get_collection(tf.GraphKeys.TRAINABLE_VARIABLES, \\\n",
    "                                                    Qnet.name))\n",
    "# # checker code\n",
    "# print(tf.get_collection(tf.GraphKeys.TRAINABLE_VARIABLES))\n",
    "# print(tf.get_collection(tf.GraphKeys.TRAINABLE_VARIABLES, Qnet.name))\n",
    "# print(tf.get_collection(tf.GraphKeys.TRAINABLE_VARIABLES, Qnet_target.name))\n",
    "\n",
    "\" Variable Initializer\"\n",
    "init_ops = tf.global_variables_initializer()\n",
    "\n",
    "\"\"\" Replay Memory\"\"\"\n",
    "replay_memory = deque(maxlen=memory_size)\n",
    "\n",
    "\"\"\" Burning Period \"\"\"\n",
    "logging.info('Initial Burning Period')\n",
    "for i in range(num_burning_episode):\n",
    "    \n",
    "    env.current_state, env.done = env.reset()\n",
    "    \n",
    "    while not env.done:\n",
    "        action = env.random_action() # this is random action\n",
    "        env.reward, next_state, env.done, _, _ = env.step(action)\n",
    "\n",
    "        sample = exp(state=env.current_state, \\\n",
    "                     action=action, \\\n",
    "                     reward=env.reward, \\\n",
    "                     next_state=next_state, \\\n",
    "                     done=env.done)\n",
    "        replay_memory.append(sample)\n",
    "\n",
    "        env.current_state = next_state\n",
    "                \n",
    "class SampleEnquer(threading.Thread):\n",
    "    def __init__(self, sess):\n",
    "        super().__init__()\n",
    "        self._sess = sess\n",
    "\n",
    "    def run(self):\n",
    "        \n",
    "        while_breaker = False\n",
    "        while not while_breaker:\n",
    "        \n",
    "            # Sample scenarios from replay-memory.\n",
    "            # samples = [sample1, sample2, ... , sample32]\n",
    "            samples = random.sample(replay_memory, batch_size) \n",
    "\n",
    "            states_ = [sample.state for sample in samples]\n",
    "            actions_ = [sample.action for sample in samples]\n",
    "            rewards_ = [sample.reward for sample in samples]\n",
    "            next_states_ = [sample.next_state for sample in samples]\n",
    "            dones_ = [sample.done for sample in samples]\n",
    "\n",
    "            states = one_hot_encode(states_, env.num_states)\n",
    "            actions = np.array(actions_, dtype=np.int32)\n",
    "            rewards = np.reshape(np.array(rewards_, dtype=np.float32), [-1, 1])\n",
    "            next_states = one_hot_encode(next_states_, env.num_states)\n",
    "            dones = np.reshape(np.array(dones_, dtype=np.float32), [-1, 1])\n",
    "\n",
    "            try:\n",
    "                self._sess.run(enqueue_op, feed_dict={state_holder: states,\n",
    "                                                action_holder: actions,\n",
    "                                                reward_holder: rewards,\n",
    "                                                next_state_holder: next_states,\n",
    "                                                done_holder: dones})\n",
    "            except Exception:\n",
    "                while_breaker = True\n",
    "\n",
    "    def stop(self):\n",
    "        self._sess.run(q_close)\n",
    "        \n",
    "sess = tf.Session()\n",
    "sess.run(init_ops)\n",
    "\n",
    "\"\"\" Training \"\"\"\n",
    "logging.info('Training Start')\n",
    "train_step = 0\n",
    "cum_return_test = []\n",
    "step_history = []\n",
    "\n",
    "# https://www.python-course.eu/threads.php\n",
    "# The class threading.Thread has a method start(), \n",
    "# which can start a Thread. \n",
    "# It triggers off the method run(), which has to be overloaded. \n",
    "# The join() method makes sure that the main program waits \n",
    "# until all threads have terminated. \n",
    "sample_enquer = SampleEnquer(sess)\n",
    "sample_enquer.start()\n",
    "\n",
    "for episode_num in range(max_episodes):\n",
    "    \n",
    "    # Reset Environment and Reset Cum. Reward\n",
    "    env.current_state, env.done = env.reset()\n",
    "        \n",
    "    learning_rate = 1. / ((episode_num * 0.1) + 1.)\n",
    "    epsilon = 1. / ((episode_num * 0.1) + 1.)\n",
    "\n",
    "    while not env.done:\n",
    "        \n",
    "        # Action Selection\n",
    "        if np.random.uniform(0.,1.) > epsilon:\n",
    "            action = sess.run(greedy_action,\n",
    "                              feed_dict={state_holder_explore: \\\n",
    "                                         one_hot_encode([env.current_state], \\\n",
    "                                                        env.num_states)})\n",
    "        else:\n",
    "            action = env.random_action() # random action\n",
    "        \n",
    "        env.reward, next_state, env.done, _, _ = env.step(action)\n",
    "\n",
    "        sample = exp(state=env.current_state, \\\n",
    "                     action=action, \\\n",
    "                     reward=env.reward, \\\n",
    "                     next_state=next_state, \\\n",
    "                     done=env.done)\n",
    "        replay_memory.append(sample)\n",
    "        \n",
    "        env.current_state = next_state\n",
    "        \n",
    "        # activate this line: states, ... = train_q.dequeue_many(batch_size)\n",
    "        sess.run(train_ops, feed_dict={lr_rate: learning_rate}) \n",
    "\n",
    "        train_step += 1\n",
    "\n",
    "        # Network Synchronization\n",
    "        if train_step % copy_period == 0:\n",
    "            sess.run(copy_ops)\n",
    "\n",
    "        # Terminal of Scenario.\n",
    "        if env.done:\n",
    "            if env.current_state == env.win_state:\n",
    "                step_history.append(1)\n",
    "            if env.current_state == env.lose_state:\n",
    "                step_history.append(0)\n",
    "            break\n",
    "\n",
    "    if (episode_num + 1) % 100 == 0:\n",
    "        logging.info('Episode  %d' % (episode_num + 1))\n",
    "\n",
    "    \"\"\" Test \"\"\"\n",
    "    if episode_num % test_period == 0:\n",
    "        env.current_state, env.done = env.reset()\n",
    "        cum_rwd = 0.0\n",
    "\n",
    "        while not env.done:\n",
    "            \n",
    "            # Action Selection\n",
    "            if np.random.uniform(0.,1.) > epsilon_test:\n",
    "                action = sess.run(greedy_action, \\\n",
    "                                  feed_dict={state_holder_explore: \\\n",
    "                                             one_hot_encode([env.current_state], \\\n",
    "                                                            env.num_states)})\n",
    "            else:\n",
    "                action = env.random_action() # random action\n",
    "                \n",
    "            env.reward, next_state, env.done, _, _ = env.step(action)\n",
    "            cum_rwd += env.reward\n",
    "            \n",
    "            if cum_rwd < -10.:\n",
    "                break\n",
    "\n",
    "            env.current_state = next_state\n",
    "\n",
    "        cum_return_test.append(cum_rwd)\n",
    "        \n",
    "# Stop sending samles from replay_memory to GPU\n",
    "sample_enquer.stop()\n",
    "sample_enquer.join()\n",
    "\n",
    "fig = plt.figure(1)\n",
    "history = np.cumsum(step_history) / (np.arange(max_episodes) + 1)\n",
    "print(history[-1])\n",
    "plt.plot(history)\n",
    "plt.show()\n",
    "\n",
    "fig = plt.figure(2)\n",
    "plt.plot(np.arange(len(cum_return_test)) * test_period, cum_return_test)\n",
    "plt.xlabel('episode.')\n",
    "plt.ylabel('cum. reward')\n",
    "plt.show()"
   ]
  },
  {
   "cell_type": "markdown",
   "metadata": {
    "slideshow": {
     "slide_type": "subslide"
    }
   },
   "source": [
    "# Exercise\n",
    "\n",
    "- The above code is using the numpy package. Modify the code using the tensorflow instead.\n",
    "\n",
    "- The above code has ``Burning Period''. Comment out the burning period part of the code and modify the code so that it runs. State your findings."
   ]
  },
  {
   "cell_type": "markdown",
   "metadata": {
    "slideshow": {
     "slide_type": "slide"
    }
   },
   "source": [
    "<div align=\"center\"><img src=\"img/Improvements since Nature DQN.png\" width=\"50%\" height=\"20%\"></div>\n",
    "\n",
    "http://icml.cc/2016/tutorials/deep_rl_tutorial.pdf"
   ]
  },
  {
   "cell_type": "markdown",
   "metadata": {
    "slideshow": {
     "slide_type": "subslide"
    }
   },
   "source": [
    "# Asynchronous Method\n",
    "\n",
    "최근에는 Asynchronous Method라는 방법으로 correlation을 없애줘서 Experience Replay를 대체한다고 한다. 간단히 Asynchronous Method를 설명하면 Thread를 통해서 여러개의 agent가 동시에 [state, action, reward, state’]를 수집한다. 그렇게 여러 agent가 동시에 수집한 데이터들은 서로 correlation이 없을 것이기 때문에 Experience Replay를 대체할 수 있으면서 더 빠르고 메모리도 절약할 수 있는 방법이라고 한다.\n",
    "\n",
    "http://www.phrgcm.com/blog/2016/08/17/deep-q-network/\n",
    "\n",
    "https://arxiv.org/pdf/1602.01783v2.pdf"
   ]
  },
  {
   "cell_type": "markdown",
   "metadata": {
    "slideshow": {
     "slide_type": "slide"
    }
   },
   "source": [
    "# Dueling DQN\n",
    "\n"
   ]
  },
  {
   "cell_type": "markdown",
   "metadata": {
    "slideshow": {
     "slide_type": "fragment"
    }
   },
   "source": [
    "$$\\begin{array}{ccccccccc}\n",
    "Q(s,a)&=&V(s)&+&A(s,a)\\\\\n",
    "\\uparrow&&\\uparrow&&\\uparrow\\\\\n",
    "\\mbox{$Q$ function}&&\\mbox{value function}&&\\mbox{advantage function}\\\\\n",
    "\\end{array}$$\n"
   ]
  },
  {
   "cell_type": "markdown",
   "metadata": {
    "slideshow": {
     "slide_type": "fragment"
    }
   },
   "source": [
    "<div align=\"center\"><img src=\"img/1-N_t9I7MeejAoWlDuH1i7cw.png\" width=\"30%\" height=\"10%\"></div>\n",
    "\n",
    "https://medium.com/@awjuliani/simple-reinforcement-learning-with-tensorflow-part-4-deep-q-networks-and-beyond-8438a3e2b8df"
   ]
  },
  {
   "cell_type": "markdown",
   "metadata": {
    "slideshow": {
     "slide_type": "slide"
    }
   },
   "source": [
    "# StarCraft II \n",
    "\n",
    "\n",
    "<div align=\"center\"><img src=\"img/StarCraft II.png\" width=\"100%\" height=\"10%\"></div>\n",
    "\n",
    "- DeepMind \n",
    "[StarCraft II 'mini games' for AI research](https://www.youtube.com/watch?time_continue=3&v=6L448yg0Sm0)\n",
    "[Trained and untrained agents play StarCraft II full 1vs1 game](https://www.youtube.com/watch?time_continue=2&v=WEOzide5XFc)\n",
    "[paper](https://arxiv.org/pdf/1708.04782.pdf)\n",
    "[local](http://localhost:8888/notebooks/Dropbox/Paper/1708.04782.pdf)\n",
    "[github](https://github.com/Blizzard/s2client-proto)\n",
    "\n",
    "- Siraj Raval \n",
    "[A Guide to DeepMind's StarCraft AI Environment](https://www.youtube.com/watch?v=URWXG5jRB-A)\n",
    "\n",
    "- Two Minute Papers #182 \n",
    "[DeepMind Publishes StarCraft II Learning Environment](https://www.youtube.com/watch?v=St5lxIxYGkI)"
   ]
  }
 ],
 "metadata": {
  "kernelspec": {
   "display_name": "Python [default]",
   "language": "python",
   "name": "python3"
  },
  "language_info": {
   "codemirror_mode": {
    "name": "ipython",
    "version": 3
   },
   "file_extension": ".py",
   "mimetype": "text/x-python",
   "name": "python",
   "nbconvert_exporter": "python",
   "pygments_lexer": "ipython3",
   "version": "3.5.5"
  }
 },
 "nbformat": 4,
 "nbformat_minor": 2
}
