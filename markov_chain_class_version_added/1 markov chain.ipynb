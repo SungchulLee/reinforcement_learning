{
 "cells": [
  {
   "cell_type": "markdown",
   "metadata": {
    "collapsed": true,
    "slideshow": {
     "slide_type": "slide"
    }
   },
   "source": [
    "# Markov Chain\n",
    " \n",
    "Sungchul Lee  "
   ]
  },
  {
   "cell_type": "code",
   "execution_count": 1,
   "metadata": {},
   "outputs": [],
   "source": [
    "import matplotlib.pyplot as plt\n",
    "import numpy as np; np.random.seed(1)"
   ]
  },
  {
   "cell_type": "markdown",
   "metadata": {
    "slideshow": {
     "slide_type": "subslide"
    }
   },
   "source": [
    "# State\n",
    "\n"
   ]
  },
  {
   "cell_type": "markdown",
   "metadata": {},
   "source": [
    "$$i\\quad\\mbox{state}$$"
   ]
  },
  {
   "cell_type": "code",
   "execution_count": 2,
   "metadata": {
    "slideshow": {
     "slide_type": "fragment"
    }
   },
   "outputs": [],
   "source": [
    "states = [0,1,2,3]\n",
    "n_states = len(states)"
   ]
  },
  {
   "cell_type": "markdown",
   "metadata": {
    "slideshow": {
     "slide_type": "subslide"
    }
   },
   "source": [
    "# Transition probability\n",
    "\n"
   ]
  },
  {
   "cell_type": "markdown",
   "metadata": {},
   "source": [
    "$$p_{ij}\\quad\\mbox{transition probability of jumping from $i$ to $j$}$$"
   ]
  },
  {
   "cell_type": "code",
   "execution_count": 3,
   "metadata": {
    "slideshow": {
     "slide_type": "fragment"
    }
   },
   "outputs": [
    {
     "name": "stdout",
     "output_type": "stream",
     "text": [
      "[[0.6 0.4 0.  0. ]\n",
      " [0.2 0.4 0.4 0. ]\n",
      " [0.  0.2 0.4 0.4]\n",
      " [0.  0.  0.2 0.8]]\n"
     ]
    }
   ],
   "source": [
    "P = np.empty((n_states, n_states))\n",
    "\n",
    "l = 0.2\n",
    "r = 0.4\n",
    "s = 1-l-r\n",
    "\n",
    "#             0   1   2   3   \n",
    "P[ 0, :] = [s+l,  r,  0,  0]\n",
    "P[ 1, :] = [  l,  s,  r,  0]\n",
    "P[ 2, :] = [  0,  l,  s,  r]\n",
    "P[ 3, :] = [  0,  0,  l,s+r]\n",
    "\n",
    "print(P)"
   ]
  },
  {
   "cell_type": "markdown",
   "metadata": {},
   "source": [
    "# Initial state"
   ]
  },
  {
   "cell_type": "code",
   "execution_count": 4,
   "metadata": {},
   "outputs": [
    {
     "name": "stdout",
     "output_type": "stream",
     "text": [
      "1\n"
     ]
    }
   ],
   "source": [
    "state = np.random.choice(states) \n",
    "print(state)"
   ]
  },
  {
   "cell_type": "markdown",
   "metadata": {},
   "source": [
    "# Simulation"
   ]
  },
  {
   "cell_type": "code",
   "execution_count": 5,
   "metadata": {},
   "outputs": [
    {
     "name": "stdout",
     "output_type": "stream",
     "text": [
      "state:  1, next_state:  2, transition_prob: 0.4000\n",
      "state:  2, next_state:  3, transition_prob: 0.4000\n",
      "state:  3, next_state:  2, transition_prob: 0.2000\n",
      "state:  2, next_state:  3, transition_prob: 0.4000\n",
      "state:  3, next_state:  3, transition_prob: 0.8000\n"
     ]
    }
   ],
   "source": [
    "num_steps = 5\n",
    "msg = \"state: {:2}, next_state: {:2}, transition_prob: {:.4f}\" \n",
    "state_history = []\n",
    "state_history.append(state)\n",
    "for _ in range(num_steps):\n",
    "    next_state = np.random.choice(states, p=P[state, :])\n",
    "    prob = P[state, next_state]\n",
    "    print(msg.format(state, next_state, prob))\n",
    "    state = next_state\n",
    "    state_history.append(state)"
   ]
  },
  {
   "cell_type": "code",
   "execution_count": 6,
   "metadata": {},
   "outputs": [
    {
     "data": {
      "image/png": "[encoded data removed]",
      "text/plain": [
       "<Figure size 432x288 with 1 Axes>"
      ]
     },
     "metadata": {
      "needs_background": "light"
     },
     "output_type": "display_data"
    }
   ],
   "source": [
    "fig, ax = plt.subplots()\n",
    "ax.plot(state_history, 'o--')\n",
    "ax.set_ylim([-0.1,3.1])\n",
    "ax.set_yticks([0,1,2,3])\n",
    "ax.grid()\n",
    "plt.show()"
   ]
  },
  {
   "cell_type": "code",
   "execution_count": null,
   "metadata": {},
   "outputs": [],
   "source": []
  }
 ],
 "metadata": {
  "kernelspec": {
   "display_name": "Python 3",
   "language": "python",
   "name": "python3"
  },
  "language_info": {
   "codemirror_mode": {
    "name": "ipython",
    "version": 3
   },
   "file_extension": ".py",
   "mimetype": "text/x-python",
   "name": "python",
   "nbconvert_exporter": "python",
   "pygments_lexer": "ipython3",
   "version": "3.7.7"
  }
 },
 "nbformat": 4,
 "nbformat_minor": 2
}
