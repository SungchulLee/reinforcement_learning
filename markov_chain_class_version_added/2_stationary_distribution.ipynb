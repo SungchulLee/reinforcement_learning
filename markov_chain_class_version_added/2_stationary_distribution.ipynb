{
 "cells": [
  {
   "cell_type": "markdown",
   "metadata": {
    "collapsed": true,
    "slideshow": {
     "slide_type": "slide"
    }
   },
   "source": [
    "# Markov Chain\n",
    " \n",
    "Sungchul Lee  "
   ]
  },
  {
   "cell_type": "code",
   "execution_count": 1,
   "metadata": {},
   "outputs": [],
   "source": [
    "import matplotlib.pyplot as plt\n",
    "import numpy as np; np.random.seed(1)"
   ]
  },
  {
   "cell_type": "markdown",
   "metadata": {
    "slideshow": {
     "slide_type": "subslide"
    }
   },
   "source": [
    "# State\n",
    "\n"
   ]
  },
  {
   "cell_type": "markdown",
   "metadata": {},
   "source": [
    "$$i\\quad\\mbox{state}$$"
   ]
  },
  {
   "cell_type": "code",
   "execution_count": 2,
   "metadata": {
    "slideshow": {
     "slide_type": "fragment"
    }
   },
   "outputs": [],
   "source": [
    "states = [0,1,2,3]\n",
    "n_states = len(states)"
   ]
  },
  {
   "cell_type": "markdown",
   "metadata": {
    "slideshow": {
     "slide_type": "subslide"
    }
   },
   "source": [
    "# Transition probability\n",
    "\n"
   ]
  },
  {
   "cell_type": "markdown",
   "metadata": {},
   "source": [
    "$$p_{ij}\\quad\\mbox{transition probability of jumping from $i$ to $j$}$$"
   ]
  },
  {
   "cell_type": "code",
   "execution_count": 3,
   "metadata": {
    "slideshow": {
     "slide_type": "fragment"
    }
   },
   "outputs": [
    {
     "name": "stdout",
     "output_type": "stream",
     "text": [
      "[[0.6 0.4 0.  0. ]\n",
      " [0.5 0.1 0.4 0. ]\n",
      " [0.  0.5 0.1 0.4]\n",
      " [0.  0.  0.5 0.5]]\n"
     ]
    }
   ],
   "source": [
    "P = np.empty((n_states, n_states))\n",
    "\n",
    "l = 0.5\n",
    "r = 0.4\n",
    "s = 1-l-r\n",
    "\n",
    "#             0   1   2   3   \n",
    "P[ 0, :] = [s+l,  r,  0,  0]\n",
    "P[ 1, :] = [  l,  s,  r,  0]\n",
    "P[ 2, :] = [  0,  l,  s,  r]\n",
    "P[ 3, :] = [  0,  0,  l,s+r]\n",
    "\n",
    "print(P)"
   ]
  },
  {
   "cell_type": "markdown",
   "metadata": {},
   "source": [
    "# Initial state"
   ]
  },
  {
   "cell_type": "code",
   "execution_count": 4,
   "metadata": {},
   "outputs": [
    {
     "name": "stdout",
     "output_type": "stream",
     "text": [
      "1\n"
     ]
    }
   ],
   "source": [
    "state = np.random.choice(states) \n",
    "print(state)"
   ]
  },
  {
   "cell_type": "markdown",
   "metadata": {},
   "source": [
    "# Stationary distribution $\\pi$\n",
    "\n",
    "$$\n",
    "\\pi {\\bf P} = \\pi\n",
    "$$\n",
    "$$$$\n",
    "$$\n",
    "\\left[\\begin{array}{ccccc}\\pi[0]&\\pi[1]&\\pi[2]&\\pi[3]\\end{array}\\right]\n",
    "\\left[\\begin{array}{ccccc}\n",
    "{\\bf P}[0,0]&{\\bf P}[0,1]&{\\bf P}[0,2]&{\\bf P}[0,3]\\\\\n",
    "{\\bf P}[1,0]&{\\bf P}[1,1]&{\\bf P}[1,2]&{\\bf P}[1,3]\\\\\n",
    "{\\bf P}[2,0]&{\\bf P}[2,1]&{\\bf P}[2,2]&{\\bf P}[2,3]\\\\\n",
    "{\\bf P}[3,0]&{\\bf P}[3,1]&{\\bf P}[3,2]&{\\bf P}[3,3]\n",
    "\\end{array}\\right]\n",
    "=\n",
    "\\left[\\begin{array}{ccccc}\\pi[0]&\\pi[1]&\\pi[2]&\\pi[3]\\end{array}\\right]\n",
    "$$"
   ]
  },
  {
   "cell_type": "markdown",
   "metadata": {},
   "source": [
    "$$\n",
    "\\pi[i]\\ge 0\\quad\\mbox{and}\\quad\\sum_i\\pi[i]=1\n",
    "$$"
   ]
  },
  {
   "cell_type": "markdown",
   "metadata": {},
   "source": [
    "# $\\pi$ by system of linear equations"
   ]
  },
  {
   "cell_type": "markdown",
   "metadata": {},
   "source": [
    "$$\\pi {\\bf P} = \\pi$$\n",
    "$$\\pi {\\bf P} = \\pi{\\bf I}$$\n",
    "$$\\pi ({\\bf P}-{\\bf I}) = [0,0,0,0]$$\n",
    "$$\\pi \\underbrace{\\left[({\\bf P}-{\\bf I}), {\\bf 1}\\right]}_{\\bf A} = \\underbrace{[0,0,0,0,1]}_{\\bf b}$$"
   ]
  },
  {
   "cell_type": "code",
   "execution_count": 5,
   "metadata": {},
   "outputs": [
    {
     "name": "stdout",
     "output_type": "stream",
     "text": [
      "[[0.33875339 0.27100271 0.21680217 0.17344173]]\n"
     ]
    },
    {
     "name": "stderr",
     "output_type": "stream",
     "text": [
      "/Users/sungchullee/anaconda3/lib/python3.7/site-packages/ipykernel_launcher.py:3: FutureWarning: `rcond` parameter will change to the default of machine precision times ``max(M, N)`` where M and N are the input matrix dimensions.\n",
      "To use the future default and silence this warning we advise to pass `rcond=None`, to keep using the old, explicitly pass `rcond=-1`.\n",
      "  This is separate from the ipykernel package so we can avoid doing imports until\n"
     ]
    }
   ],
   "source": [
    "A = np.c_[P - np.eye(n_states), np.ones((n_states,1))]\n",
    "b = np.zeros((1, n_states+1)); b[0,-1] = 1\n",
    "pi, residue, rank, singular_values = np.linalg.lstsq(A.T, b.T)\n",
    "pi = pi.T\n",
    "print(pi)"
   ]
  },
  {
   "cell_type": "markdown",
   "metadata": {},
   "source": [
    "# $\\pi$ by simulation"
   ]
  },
  {
   "cell_type": "markdown",
   "metadata": {},
   "source": [
    "1. Generate a simulated path of many steps.\n",
    "\n",
    "2. For each time step $n$, using the first $n$ steps of sample path compute empirical PMF $\\pi_n$:\n",
    "\n",
    "$$\n",
    "\\pi_n[i]=\\frac{\\#\\ \\mbox{visits of state $i$ up to time $n$}}{n}\n",
    "$$\n",
    "$$$$\n",
    "Under mild conditions, as $n\\rightarrow\\infty$\n",
    "$$\n",
    "\\pi_n[i]\\rightarrow\\pi[i]\n",
    "$$\n",
    "where\n",
    "$$\n",
    "\\pi\\quad\\mbox{unique stationary distribution}\n",
    "$$"
   ]
  },
  {
   "cell_type": "code",
   "execution_count": 6,
   "metadata": {},
   "outputs": [],
   "source": [
    "n_steps = 1000"
   ]
  },
  {
   "cell_type": "code",
   "execution_count": 7,
   "metadata": {},
   "outputs": [],
   "source": [
    "visit_log = np.zeros((n_states, n_steps))     \n",
    "for step in range(n_steps):\n",
    "    visit_log[state, step] = 1.\n",
    "    next_state = np.random.choice(states, p=P[state, :])\n",
    "    state = next_state"
   ]
  },
  {
   "cell_type": "code",
   "execution_count": 8,
   "metadata": {},
   "outputs": [
    {
     "name": "stdout",
     "output_type": "stream",
     "text": [
      "[[0. 0. 0. ... 1. 0. 0.]\n",
      " [1. 0. 0. ... 0. 1. 0.]\n",
      " [0. 1. 0. ... 0. 0. 1.]\n",
      " [0. 0. 1. ... 0. 0. 0.]]\n"
     ]
    }
   ],
   "source": [
    "print(visit_log)"
   ]
  },
  {
   "cell_type": "code",
   "execution_count": 9,
   "metadata": {},
   "outputs": [
    {
     "name": "stdout",
     "output_type": "stream",
     "text": [
      "[[  0.   0.   0. ... 384. 384. 384.]\n",
      " [  1.   1.   1. ... 274. 275. 275.]\n",
      " [  0.   1.   1. ... 188. 188. 189.]\n",
      " [  0.   0.   1. ... 152. 152. 152.]]\n"
     ]
    }
   ],
   "source": [
    "print(np.cumsum(visit_log, axis=1))"
   ]
  },
  {
   "cell_type": "code",
   "execution_count": 10,
   "metadata": {},
   "outputs": [
    {
     "name": "stdout",
     "output_type": "stream",
     "text": [
      "[[0.   0.   0.   ... 0.38 0.38 0.38]\n",
      " [1.   0.5  0.33 ... 0.27 0.28 0.28]\n",
      " [0.   0.5  0.33 ... 0.19 0.19 0.19]\n",
      " [0.   0.   0.33 ... 0.15 0.15 0.15]]\n"
     ]
    }
   ],
   "source": [
    "pi_ = np.cumsum(visit_log, axis=1) / (np.arange(n_steps) + 1).reshape((1,-1))\n",
    "print(np.round(pi_, 2)) "
   ]
  },
  {
   "cell_type": "code",
   "execution_count": 11,
   "metadata": {},
   "outputs": [
    {
     "data": {
      "image/png": "[encoded data removed]",
      "text/plain": [
       "<Figure size 720x360 with 4 Axes>"
      ]
     },
     "metadata": {
      "needs_background": "light"
     },
     "output_type": "display_data"
    }
   ],
   "source": [
    "fig, axes = plt.subplots(nrows=4, ncols=1, figsize=(10, 5), sharex=True)\n",
    "for s in range(n_states):\n",
    "    axes[s].plot(pi_[s], label=\"state {}\".format(str(s)))\n",
    "    axes[s].plot([0, n_steps-1], [pi[0,s], pi[0,s]], '--')\n",
    "    axes[s].legend(loc='upper right')\n",
    "    axes[s].set_ylim([0., 1.])   \n",
    "plt.tight_layout()\n",
    "plt.show()"
   ]
  },
  {
   "cell_type": "code",
   "execution_count": null,
   "metadata": {},
   "outputs": [],
   "source": []
  }
 ],
 "metadata": {
  "kernelspec": {
   "display_name": "Python 3",
   "language": "python",
   "name": "python3"
  },
  "language_info": {
   "codemirror_mode": {
    "name": "ipython",
    "version": 3
   },
   "file_extension": ".py",
   "mimetype": "text/x-python",
   "name": "python",
   "nbconvert_exporter": "python",
   "pygments_lexer": "ipython3",
   "version": "3.7.7"
  }
 },
 "nbformat": 4,
 "nbformat_minor": 2
}
