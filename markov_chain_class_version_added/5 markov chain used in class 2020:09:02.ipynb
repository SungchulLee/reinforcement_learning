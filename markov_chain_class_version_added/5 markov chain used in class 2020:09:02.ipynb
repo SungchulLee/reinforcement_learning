{
 "cells": [
  {
   "cell_type": "markdown",
   "metadata": {
    "collapsed": true,
    "slideshow": {
     "slide_type": "slide"
    }
   },
   "source": [
    "# Markov Chain\n",
    " \n",
    "Sungchul Lee  "
   ]
  },
  {
   "cell_type": "markdown",
   "metadata": {
    "slideshow": {
     "slide_type": "subslide"
    }
   },
   "source": [
    "# State\n",
    "\n"
   ]
  },
  {
   "cell_type": "markdown",
   "metadata": {},
   "source": [
    "$$i\\quad\\mbox{state}$$"
   ]
  },
  {
   "cell_type": "code",
   "execution_count": 4,
   "metadata": {
    "slideshow": {
     "slide_type": "fragment"
    }
   },
   "outputs": [],
   "source": [
    "import numpy as np; np.random.seed(1)\n",
    "states = [0,1,2,3]\n",
    "N_STATES = len(states)"
   ]
  },
  {
   "cell_type": "markdown",
   "metadata": {
    "slideshow": {
     "slide_type": "subslide"
    }
   },
   "source": [
    "# Transition probability\n",
    "\n"
   ]
  },
  {
   "cell_type": "markdown",
   "metadata": {},
   "source": [
    "$$p_{ij}\\quad\\mbox{transition probability of jumping from $i$ to $j$}$$"
   ]
  },
  {
   "cell_type": "code",
   "execution_count": 2,
   "metadata": {
    "slideshow": {
     "slide_type": "fragment"
    }
   },
   "outputs": [
    {
     "name": "stdout",
     "output_type": "stream",
     "text": [
      "[[0.7 0.3 0.  0. ]\n",
      " [0.3 0.4 0.3 0. ]\n",
      " [0.  0.3 0.4 0.3]\n",
      " [0.  0.  0.3 0.7]]\n"
     ]
    }
   ],
   "source": [
    "P = np.empty((N_STATES, N_STATES))\n",
    "l = 0.3\n",
    "r = 0.3\n",
    "s = 1-l-r\n",
    "\n",
    "#             0   1   2   3   \n",
    "P[ 0, :] = [s+l,  r,  0,  0]\n",
    "P[ 1, :] = [  l,  s,  r,  0]\n",
    "P[ 2, :] = [  0,  l,  s,  r]\n",
    "P[ 3, :] = [  0,  0,  l,s+r]\n",
    "\n",
    "print(P)"
   ]
  },
  {
   "cell_type": "markdown",
   "metadata": {},
   "source": [
    "# Initial State"
   ]
  },
  {
   "cell_type": "code",
   "execution_count": 3,
   "metadata": {},
   "outputs": [
    {
     "name": "stdout",
     "output_type": "stream",
     "text": [
      "2\n"
     ]
    }
   ],
   "source": [
    "state = np.random.choice(states) \n",
    "print(state)"
   ]
  },
  {
   "cell_type": "markdown",
   "metadata": {},
   "source": [
    "# Simulation"
   ]
  },
  {
   "cell_type": "code",
   "execution_count": 5,
   "metadata": {},
   "outputs": [
    {
     "name": "stdout",
     "output_type": "stream",
     "text": [
      "state:  2, next_state:  2, transition_prob: 0.39999999999999997\n",
      "state:  2, next_state:  3, transition_prob: 0.3\n",
      "state:  3, next_state:  2, transition_prob: 0.3\n",
      "state:  2, next_state:  2, transition_prob: 0.39999999999999997\n",
      "state:  2, next_state:  1, transition_prob: 0.3\n"
     ]
    },
    {
     "data": {
      "image/png": "[encoded data removed]",
      "text/plain": [
       "<Figure size 432x288 with 1 Axes>"
      ]
     },
     "metadata": {
      "needs_background": "light"
     },
     "output_type": "display_data"
    }
   ],
   "source": [
    "import matplotlib.pyplot as plt\n",
    "num_steps = 5\n",
    "msg = \"state: {:2}, next_state: {:2}, transition_prob: {}\" \n",
    "state_history = []\n",
    "state_history.append(state)\n",
    "for _ in range(num_steps):\n",
    "    next_state = np.random.choice(states, p=P[state, :])\n",
    "    prob = P[state, next_state]\n",
    "    print(msg.format(state, next_state, prob))\n",
    "    state = next_state\n",
    "    state_history.append(state)\n",
    "fig, ax = plt.subplots()\n",
    "ax.plot(state_history, 'o--')\n",
    "ax.set_ylim([-0.1,3.1])\n",
    "ax.set_yticks([0,1,2,3]) \n",
    "plt.show()"
   ]
  },
  {
   "cell_type": "code",
   "execution_count": null,
   "metadata": {},
   "outputs": [],
   "source": []
  },
  {
   "cell_type": "code",
   "execution_count": null,
   "metadata": {},
   "outputs": [],
   "source": []
  }
 ],
 "metadata": {
  "kernelspec": {
   "display_name": "Python 3",
   "language": "python",
   "name": "python3"
  },
  "language_info": {
   "codemirror_mode": {
    "name": "ipython",
    "version": 3
   },
   "file_extension": ".py",
   "mimetype": "text/x-python",
   "name": "python",
   "nbconvert_exporter": "python",
   "pygments_lexer": "ipython3",
   "version": "3.7.7"
  }
 },
 "nbformat": 4,
 "nbformat_minor": 2
}
